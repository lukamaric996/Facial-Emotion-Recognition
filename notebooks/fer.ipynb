{
 "cells": [
  {
   "cell_type": "markdown",
   "metadata": {
    "id": "g8MsWysLkCxn"
   },
   "source": [
    "# Preprocessing\n",
    "- get the data\n",
    "- split it to train,validation,train sets "
   ]
  },
  {
   "cell_type": "code",
   "execution_count": null,
   "metadata": {
    "id": "IO8OQcA-5Wwu"
   },
   "outputs": [],
   "source": [
    "##google colab\n",
    "from google.colab.patches import cv2_imshow\n",
    "from google.colab import files\n",
    "from google.colab import drive\n",
    "\n",
    "####\n",
    "import pandas as pd\n",
    "import numpy as np\n",
    "import io\n",
    "from matplotlib import pyplot as plt\n",
    "%matplotlib inline\n",
    "import pandas as pd\n",
    "import numpy as np\n",
    "import keras\n",
    "import cv2\n",
    "import subprocess\n",
    "import os\n",
    "import time\n",
    "import math\n",
    "\n",
    "#dl\n",
    "import tensorflow as tf\n",
    "from tensorflow.keras import layers, models, callbacks\n",
    "from tensorflow.keras.preprocessing.image import ImageDataGenerator"
   ]
  },
  {
   "cell_type": "code",
   "execution_count": null,
   "metadata": {
    "colab": {
     "base_uri": "https://localhost:8080/",
     "height": 34
    },
    "id": "k_hfqJ0qejQy",
    "outputId": "56c8869a-2249-47ad-bf46-741e953bda78"
   },
   "outputs": [
    {
     "name": "stdout",
     "output_type": "stream",
     "text": [
      "sample_data\n"
     ]
    }
   ],
   "source": [
    "!ls"
   ]
  },
  {
   "cell_type": "code",
   "execution_count": null,
   "metadata": {
    "colab": {
     "base_uri": "https://localhost:8080/",
     "height": 34
    },
    "id": "b2CX3mOT5teD",
    "outputId": "ad381cbf-5564-4163-fbec-2451b85c4da9"
   },
   "outputs": [
    {
     "name": "stdout",
     "output_type": "stream",
     "text": [
      "Mounted at /content/drive\n"
     ]
    }
   ],
   "source": [
    "drive.mount('/content/drive')"
   ]
  },
  {
   "cell_type": "code",
   "execution_count": null,
   "metadata": {
    "colab": {
     "base_uri": "https://localhost:8080/",
     "height": 34
    },
    "id": "hOrMabDVeOU0",
    "outputId": "ffab7bcf-96a7-4670-e01c-92a2b02b2676"
   },
   "outputs": [
    {
     "name": "stdout",
     "output_type": "stream",
     "text": [
      "Mounted at /content/drive\n"
     ]
    }
   ],
   "source": [
    "#drive.mount('/content/drive', force_remount=True)"
   ]
  },
  {
   "cell_type": "code",
   "execution_count": null,
   "metadata": {
    "colab": {
     "base_uri": "https://localhost:8080/",
     "height": 34
    },
    "id": "vSnU1Zcw5aU5",
    "outputId": "c22b7487-c45f-4e31-8656-faeea2b17f81"
   },
   "outputs": [
    {
     "name": "stdout",
     "output_type": "stream",
     "text": [
      "/content/drive/My Drive/diplrad/projekt\n"
     ]
    }
   ],
   "source": [
    "cd /content/drive/My Drive/diplrad/projekt"
   ]
  },
  {
   "cell_type": "code",
   "execution_count": null,
   "metadata": {
    "id": "ENV0k93TfXDT"
   },
   "outputs": [],
   "source": [
    "'''\n",
    "All in one for python script\n",
    "\n",
    "def load_fer2013():\n",
    "    \"\"\"Load the emotion dataset\"\"\"\n",
    "    if not os.path.exists(\"data/raw\"):\n",
    "        print(\"Downloading the face emotion dataset...\")\n",
    "        subprocess.check_output(\n",
    "            \"curl -SL https://www.dropbox.com/s/opuvvdv3uligypx/fer2013.tar | tar xz\", shell=True)\n",
    "    print(\"Loading dataset...\")\n",
    "    data = pd.read_csv(\"data/raw/fer2013.csv\")\n",
    "\n",
    "    train_data = data[data['Usage'] == \"Training\"]\n",
    "    valid_data = data[data['Usage'] == \"PublicTest\"]\n",
    "    test_data = data[data['Usage'] == \"PrivateTest\"]\n",
    "    \n",
    "\n",
    "    return train_data, valid_data, test_data\n",
    "\n",
    "def getFeatures(data,width=48, height=48):\n",
    "\n",
    "    X = []\n",
    "    pixels = data['pixels'].tolist()\n",
    "    for pixel_sequence in pixels:\n",
    "        face = np.asarray(pixel_sequence.split(\n",
    "            ' '), dtype=np.uint8).reshape(width, height)\n",
    "        face = cv2.resize(face.astype('uint8'), (width, height))\n",
    "        X.append(face.astype('float32'))\n",
    "\n",
    "    X = np.asarray(X)\n",
    "    X = np.expand_dims(X, -1)\n",
    "    y = pd.get_dummies(data['emotion']).values\n",
    "\n",
    "\n",
    "    return X,y\n",
    "\n",
    "train_data, valid_data, test_data = load_fer2013()\n",
    "\n",
    "\n",
    "X_train,y_train = getFeatures(train_data)\n",
    "X_val,y_val = getFeatures(valid_data)\n",
    "X_test,y_test = getFeatures(test_data)\n",
    "\n",
    "\n",
    "print(X_train.shape, X_val.shape, X_test.shape)\n",
    "print(y_train.shape,y_val.shape,y_test.shape)\n",
    "\n",
    "'''"
   ]
  },
  {
   "cell_type": "code",
   "execution_count": null,
   "metadata": {
    "id": "HCDZHgZZo9s2"
   },
   "outputs": [],
   "source": [
    "def load_fer2013():\n",
    "    \"\"\"Load the emotion dataset\"\"\"\n",
    "    if not os.path.exists(\"data/raw\"):\n",
    "        print(\"Downloading the face emotion dataset...\")\n",
    "        subprocess.check_output(\n",
    "            \"curl -SL https://www.dropbox.com/s/opuvvdv3uligypx/fer2013.tar | tar xz\", shell=True)\n",
    "    print(\"Loading dataset...\")\n",
    "    data = pd.read_csv(\"data/raw/fer2013.csv\")\n",
    "\n",
    "    train_data = data[data['Usage'] == \"Training\"]\n",
    "    valid_data = data[data['Usage'] == \"PublicTest\"]\n",
    "    test_data = data[data['Usage'] == \"PrivateTest\"]\n",
    "    \n",
    "    print('Done!')\n",
    "    return train_data, valid_data, test_data"
   ]
  },
  {
   "cell_type": "code",
   "execution_count": null,
   "metadata": {
    "id": "wdC7URXwiR-q"
   },
   "outputs": [],
   "source": [
    "def getFeatures(data):\n",
    "\n",
    "    width, height = 48, 48\n",
    "    X = []\n",
    "    pixels = data['pixels'].tolist()\n",
    "    for pixel_sequence in pixels:\n",
    "        #print(len(pixel_sequence))\n",
    "        face = np.asarray(pixel_sequence.split(\n",
    "            ' '), dtype=np.uint8).reshape(width, height)\n",
    "        #print(len(face))\n",
    "        face = cv2.resize(face.astype('uint8'), (width, height))\n",
    "        X.append(face.astype('float32'))\n",
    "\n",
    "    X = np.asarray(X)\n",
    "    X = np.expand_dims(X, -1)\n",
    "    y = pd.get_dummies(data['emotion']).values\n",
    "\n",
    "    print('Done!')\n",
    "    return X,y"
   ]
  },
  {
   "cell_type": "code",
   "execution_count": null,
   "metadata": {
    "id": "xuKHGckr0BtR"
   },
   "outputs": [],
   "source": [
    "train_data.head()"
   ]
  },
  {
   "cell_type": "code",
   "execution_count": null,
   "metadata": {
    "id": "apErTDGbQsqv"
   },
   "outputs": [],
   "source": []
  },
  {
   "cell_type": "code",
   "execution_count": null,
   "metadata": {
    "colab": {
     "base_uri": "https://localhost:8080/",
     "height": 51
    },
    "id": "AbS4O5rUijDo",
    "outputId": "876defda-462b-4b69-8dec-2328bbaff27a"
   },
   "outputs": [
    {
     "name": "stdout",
     "output_type": "stream",
     "text": [
      "Loading dataset...\n",
      "Done!\n"
     ]
    }
   ],
   "source": [
    "train_data, valid_data, test_data = load_fer2013()"
   ]
  },
  {
   "cell_type": "code",
   "execution_count": null,
   "metadata": {
    "colab": {
     "base_uri": "https://localhost:8080/",
     "height": 85
    },
    "id": "JJgPGph3iwHC",
    "outputId": "2e233c01-eb1d-4881-b19c-e33078188a40"
   },
   "outputs": [
    {
     "data": {
      "text/plain": [
       "emotion    28709\n",
       "pixels     28709\n",
       "Usage      28709\n",
       "dtype: int64"
      ]
     },
     "execution_count": 10,
     "metadata": {
      "tags": []
     },
     "output_type": "execute_result"
    }
   ],
   "source": [
    "train_data.count()"
   ]
  },
  {
   "cell_type": "code",
   "execution_count": null,
   "metadata": {
    "colab": {
     "base_uri": "https://localhost:8080/",
     "height": 85
    },
    "id": "tY3_l-8Yizk2",
    "outputId": "207d3a03-333d-4b89-bd5a-3c891abe1155"
   },
   "outputs": [
    {
     "data": {
      "text/plain": [
       "emotion    3589\n",
       "pixels     3589\n",
       "Usage      3589\n",
       "dtype: int64"
      ]
     },
     "execution_count": 11,
     "metadata": {
      "tags": []
     },
     "output_type": "execute_result"
    }
   ],
   "source": [
    "valid_data.count()"
   ]
  },
  {
   "cell_type": "code",
   "execution_count": null,
   "metadata": {
    "colab": {
     "base_uri": "https://localhost:8080/",
     "height": 85
    },
    "id": "rfp9Da4ii3QQ",
    "outputId": "8d051264-01da-46b3-956c-784ce09193e9"
   },
   "outputs": [
    {
     "data": {
      "text/plain": [
       "emotion    3589\n",
       "pixels     3589\n",
       "Usage      3589\n",
       "dtype: int64"
      ]
     },
     "execution_count": 12,
     "metadata": {
      "tags": []
     },
     "output_type": "execute_result"
    }
   ],
   "source": [
    "test_data.count()"
   ]
  },
  {
   "cell_type": "code",
   "execution_count": null,
   "metadata": {
    "colab": {
     "base_uri": "https://localhost:8080/",
     "height": 34
    },
    "id": "Zjzf3oK7i52J",
    "outputId": "cc6bbaa6-89dd-47b9-ebe9-c0b25b6c450a"
   },
   "outputs": [
    {
     "name": "stdout",
     "output_type": "stream",
     "text": [
      "Done!\n"
     ]
    }
   ],
   "source": [
    "X_train,y_train = getFeatures(train_data)"
   ]
  },
  {
   "cell_type": "code",
   "execution_count": null,
   "metadata": {
    "id": "DDI788ZieQy0"
   },
   "outputs": [],
   "source": [
    "X_train /= 255."
   ]
  },
  {
   "cell_type": "code",
   "execution_count": null,
   "metadata": {
    "colab": {
     "base_uri": "https://localhost:8080/",
     "height": 34
    },
    "id": "SrtJakcAjcbo",
    "outputId": "3022b9f5-5ba0-41f2-eb81-4f2bb3ffd43a"
   },
   "outputs": [
    {
     "name": "stdout",
     "output_type": "stream",
     "text": [
      "Done!\n"
     ]
    }
   ],
   "source": [
    "X_val,y_val = getFeatures(valid_data)"
   ]
  },
  {
   "cell_type": "code",
   "execution_count": null,
   "metadata": {
    "id": "fvoj3v3OeV3P"
   },
   "outputs": [],
   "source": [
    "X_val /=255."
   ]
  },
  {
   "cell_type": "code",
   "execution_count": null,
   "metadata": {
    "colab": {
     "base_uri": "https://localhost:8080/",
     "height": 34
    },
    "id": "UAgBHOVwjcx0",
    "outputId": "dde5c635-9b4c-4b5d-cb9b-7f2d358e5656"
   },
   "outputs": [
    {
     "name": "stdout",
     "output_type": "stream",
     "text": [
      "Done!\n"
     ]
    }
   ],
   "source": [
    "X_test,y_test = getFeatures(test_data)"
   ]
  },
  {
   "cell_type": "code",
   "execution_count": null,
   "metadata": {
    "id": "a7prCXIN1YTH"
   },
   "outputs": [],
   "source": [
    "X_test /= 255."
   ]
  },
  {
   "cell_type": "code",
   "execution_count": null,
   "metadata": {
    "id": "DD358oMpjBLU"
   },
   "outputs": [],
   "source": [
    "print(X_train.shape, X_val.shape, X_test.shape)"
   ]
  },
  {
   "cell_type": "code",
   "execution_count": null,
   "metadata": {
    "colab": {
     "base_uri": "https://localhost:8080/",
     "height": 1000
    },
    "id": "MKuFgr_LSXVt",
    "outputId": "fe1cdd41-4ee3-4b8f-9800-cb08ec83920f"
   },
   "outputs": [
    {
     "data": {
      "image/png": "[encoded data removed]",
      "text/plain": [
       "<Figure size 432x288 with 1 Axes>"
      ]
     },
     "metadata": {
      "needs_background": "light",
      "tags": []
     },
     "output_type": "display_data"
    },
    {
     "data": {
      "image/png": "[encoded data removed]",
      "text/plain": [
       "<Figure size 432x288 with 1 Axes>"
      ]
     },
     "metadata": {
      "needs_background": "light",
      "tags": []
     },
     "output_type": "display_data"
    },
    {
     "data": {
      "image/png": "[encoded data removed]",
      "text/plain": [
       "<Figure size 432x288 with 1 Axes>"
      ]
     },
     "metadata": {
      "needs_background": "light",
      "tags": []
     },
     "output_type": "display_data"
    },
    {
     "data": {
      "image/png": "[encoded data removed]",
      "text/plain": [
       "<Figure size 432x288 with 1 Axes>"
      ]
     },
     "metadata": {
      "needs_background": "light",
      "tags": []
     },
     "output_type": "display_data"
    }
   ],
   "source": [
    "for ix in range(4):\n",
    "    plt.figure(ix)\n",
    "    plt.imshow(X_train[ix].reshape((48, 48)), interpolation='none', cmap='gray')\n",
    "plt.show()"
   ]
  },
  {
   "cell_type": "code",
   "execution_count": null,
   "metadata": {
    "id": "mVTX6w9FSZPm"
   },
   "outputs": [],
   "source": [
    "for ix in range(4):\n",
    "    plt.figure(ix)\n",
    "    plt.imshow(X_val[ix].reshape((48, 48)), interpolation='none', cmap='gray')\n",
    "plt.show()"
   ]
  },
  {
   "cell_type": "code",
   "execution_count": null,
   "metadata": {
    "id": "Pp0yMgeMSZfH"
   },
   "outputs": [],
   "source": [
    "for ix in range(4):\n",
    "    plt.figure(ix)\n",
    "    plt.imshow(X_test[ix].reshape((48, 48)), interpolation='none', cmap='gray')\n",
    "plt.show()"
   ]
  },
  {
   "cell_type": "markdown",
   "metadata": {
    "id": "RIJ9WLdCkBOC"
   },
   "source": [
    "# Image segmentation"
   ]
  },
  {
   "cell_type": "code",
   "execution_count": null,
   "metadata": {
    "id": "Xo5hx7GHohzo"
   },
   "outputs": [],
   "source": [
    "from tensorflow.keras.preprocessing.image import ImageDataGenerator\n",
    "datagen = ImageDataGenerator(\n",
    "                            featurewise_center=False,\n",
    "                            featurewise_std_normalization=False,\n",
    "                            rotation_range=10,\n",
    "                            width_shift_range=0.1,\n",
    "                            height_shift_range=0.1,\n",
    "                            zoom_range=0.1,\n",
    "                            horizontal_flip=True)"
   ]
  },
  {
   "cell_type": "markdown",
   "metadata": {
    "id": "7qYeHxTJT-Zz"
   },
   "source": [
    "# Training"
   ]
  },
  {
   "cell_type": "code",
   "execution_count": null,
   "metadata": {
    "id": "Y3GyKaGQUBq9"
   },
   "outputs": [],
   "source": [
    "input_shape = (48, 48, 1)\n",
    "num_classes = 7\n",
    "batch_size=128\n",
    "epochs = 150\n",
    "\n",
    "\n",
    "SGD_LEARNING_RATE = 0.01\n",
    "SGD_DECAY = 0.001\n",
    "\n",
    "sgd = keras.optimizers.SGD(learning_rate=SGD_LEARNING_RATE,momentum=0.9, decay=SGD_DECAY, nesterov=True)\n",
    "adam = keras.optimizers.Adam(learning_rate = 0.01)"
   ]
  },
  {
   "cell_type": "markdown",
   "metadata": {
    "id": "xdW3uUXYUMVY"
   },
   "source": [
    "Callbacks"
   ]
  },
  {
   "cell_type": "code",
   "execution_count": null,
   "metadata": {
    "colab": {
     "base_uri": "https://localhost:8080/",
     "height": 34
    },
    "id": "ZvhLE5ItUvx_",
    "outputId": "ae1b7065-0655-4e8c-e591-1edeac74b546"
   },
   "outputs": [
    {
     "name": "stdout",
     "output_type": "stream",
     "text": [
      "Directory already exists!\n"
     ]
    }
   ],
   "source": [
    "if os.path.isdir('utils'):\n",
    "    print('Directory already exists!')\n",
    "else:\n",
    "  !mkdir utils"
   ]
  },
  {
   "cell_type": "code",
   "execution_count": null,
   "metadata": {
    "colab": {
     "base_uri": "https://localhost:8080/",
     "height": 34
    },
    "id": "t8KJ98c7U5Ya",
    "outputId": "e3fc2e2f-17a1-4637-a203-18c32b027bda"
   },
   "outputs": [
    {
     "name": "stdout",
     "output_type": "stream",
     "text": [
      "data  models  utils\n"
     ]
    }
   ],
   "source": [
    "!ls"
   ]
  },
  {
   "cell_type": "code",
   "execution_count": null,
   "metadata": {
    "colab": {
     "base_uri": "https://localhost:8080/",
     "height": 52
    },
    "id": "Kx2p4b6CUexB",
    "outputId": "e2770b38-6b64-4b01-f6dd-17afccef14ae"
   },
   "outputs": [
    {
     "data": {
      "application/vnd.google.colaboratory.intrinsic+json": {
       "type": "string"
      },
      "text/plain": [
       "\"\\nif os.path.isdir('CLR'):\\n  print('Already downloaded')\\nelse:\\n  !git clone https://github.com/bckenstler/CLR.git\\n  print('\\nCLR downloaded!\\n')\\n\\nif os.path.isdir('LRFinder'):\\n  print('Already downloaded')\\nelse:\\n  !git clone https://github.com/WittmannF/LRFinder.git\\n  print('\\nLRFinder downloaded!\\n')\\n\\n\\nfrom CLR.clr_callback import CyclicLR\\nfrom LRFinder.keras_callback import LRFinder\\n\""
      ]
     },
     "execution_count": 24,
     "metadata": {
      "tags": []
     },
     "output_type": "execute_result"
    }
   ],
   "source": [
    "'''\n",
    "if os.path.isdir('CLR'):\n",
    "  print('Already downloaded')\n",
    "else:\n",
    "  !git clone https://github.com/bckenstler/CLR.git\n",
    "  print('\\nCLR downloaded!\\n')\n",
    "\n",
    "if os.path.isdir('LRFinder'):\n",
    "  print('Already downloaded')\n",
    "else:\n",
    "  !git clone https://github.com/WittmannF/LRFinder.git\n",
    "  print('\\nLRFinder downloaded!\\n')\n",
    "\n",
    "\n",
    "from CLR.clr_callback import CyclicLR\n",
    "from LRFinder.keras_callback import LRFinder\n",
    "'''\n",
    "\n",
    "\n",
    "\n",
    "##### Tried Cyclic Training but was not promising."
   ]
  },
  {
   "cell_type": "markdown",
   "metadata": {
    "id": "nFKzzbEXTsmk"
   },
   "source": [
    "## Baseline model"
   ]
  },
  {
   "cell_type": "code",
   "execution_count": null,
   "metadata": {
    "id": "NzUGBzsE2BTf"
   },
   "outputs": [],
   "source": [
    "'''\n",
    "tf.keras.utils.plot_model(\n",
    "    model,\n",
    "    to_file=\"model.png\",\n",
    "    show_shapes=False,\n",
    "    show_dtype=False,\n",
    "    show_layer_names=True,\n",
    "    rankdir=\"TB\",\n",
    "    expand_nested=False,\n",
    "    dpi=96,\n",
    ")\n",
    "'''\n",
    "from keras.utils import plot_model"
   ]
  },
  {
   "cell_type": "code",
   "execution_count": null,
   "metadata": {
    "id": "PWb4h1GBTpaq"
   },
   "outputs": [],
   "source": [
    "def BaselineModel():\n",
    "    \n",
    "    #Model Initialization\n",
    "    model = models.Sequential()\n",
    "    model.add(layers.Conv2D(32, (3, 3), padding='same', activation='relu', input_shape=input_shape))\n",
    "    model.add(layers.BatchNormalization())\n",
    "    model.add(layers.MaxPooling2D(pool_size=(2, 2)))\n",
    "    model.add(layers.Dropout(0.2))\n",
    "\n",
    "\n",
    "    \n",
    "    model.add(layers.Conv2D(64, (3, 3), padding='same', activation='relu'))\n",
    "    model.add(layers.BatchNormalization())\n",
    "    model.add(layers.MaxPooling2D(pool_size=(2, 2)))\n",
    "    model.add(layers.Dropout(0.2))\n",
    "\n",
    "    \n",
    "    model.add(layers.Conv2D(128, (3, 3), padding='same', activation='relu'))\n",
    "    model.add(layers.BatchNormalization())\n",
    "    model.add(layers.MaxPooling2D(pool_size=(2, 2)))\n",
    "    model.add(layers.Dropout(0.2))\n",
    "\n",
    "    model.add(layers.Conv2D(64, (3, 3), padding='same', activation='relu'))\n",
    "    model.add(layers.BatchNormalization())\n",
    "    model.add(layers.MaxPooling2D(pool_size=(2, 2)))\n",
    "    model.add(layers.Dropout(0.2))\n",
    "    \n",
    "    \n",
    "    \n",
    "    #Flattening\n",
    "    model.add(layers.Flatten())\n",
    "    \n",
    "    #Adding fully connected layer\n",
    "    model.add(layers.Dense(1024, activation='relu'))\n",
    "    model.add(layers.Dense(512, activation='relu'))\n",
    "    model.add(layers.Dropout(0.5))\n",
    "    model.add(layers.BatchNormalization())\n",
    "    #Adding Output Layer\n",
    "    model.add(layers.Dense(num_classes, activation='softmax'))\n",
    "     \n",
    "    return model"
   ]
  },
  {
   "cell_type": "code",
   "execution_count": null,
   "metadata": {
    "id": "WQJq7T3v2J_2"
   },
   "outputs": [],
   "source": [
    "plot_model(baseModel,show_shapes=True, expand_nested=True)"
   ]
  },
  {
   "cell_type": "code",
   "execution_count": null,
   "metadata": {
    "id": "R0hNck6SYpBh"
   },
   "outputs": [],
   "source": [
    "baseModel = BaselineModel()\n"
   ]
  },
  {
   "cell_type": "code",
   "execution_count": null,
   "metadata": {
    "colab": {
     "base_uri": "https://localhost:8080/",
     "height": 901
    },
    "id": "BMJXBXs1gpYd",
    "outputId": "3fe2c4fc-572c-436e-bc34-4bed4fb8b0fe"
   },
   "outputs": [
    {
     "name": "stdout",
     "output_type": "stream",
     "text": [
      "Model: \"sequential_2\"\n",
      "_________________________________________________________________\n",
      "Layer (type)                 Output Shape              Param #   \n",
      "=================================================================\n",
      "conv2d_8 (Conv2D)            (None, 48, 48, 32)        320       \n",
      "_________________________________________________________________\n",
      "batch_normalization_10 (Batc (None, 48, 48, 32)        128       \n",
      "_________________________________________________________________\n",
      "max_pooling2d_8 (MaxPooling2 (None, 24, 24, 32)        0         \n",
      "_________________________________________________________________\n",
      "dropout_10 (Dropout)         (None, 24, 24, 32)        0         \n",
      "_________________________________________________________________\n",
      "conv2d_9 (Conv2D)            (None, 24, 24, 64)        18496     \n",
      "_________________________________________________________________\n",
      "batch_normalization_11 (Batc (None, 24, 24, 64)        256       \n",
      "_________________________________________________________________\n",
      "max_pooling2d_9 (MaxPooling2 (None, 12, 12, 64)        0         \n",
      "_________________________________________________________________\n",
      "dropout_11 (Dropout)         (None, 12, 12, 64)        0         \n",
      "_________________________________________________________________\n",
      "conv2d_10 (Conv2D)           (None, 12, 12, 128)       73856     \n",
      "_________________________________________________________________\n",
      "batch_normalization_12 (Batc (None, 12, 12, 128)       512       \n",
      "_________________________________________________________________\n",
      "max_pooling2d_10 (MaxPooling (None, 6, 6, 128)         0         \n",
      "_________________________________________________________________\n",
      "dropout_12 (Dropout)         (None, 6, 6, 128)         0         \n",
      "_________________________________________________________________\n",
      "conv2d_11 (Conv2D)           (None, 6, 6, 64)          73792     \n",
      "_________________________________________________________________\n",
      "batch_normalization_13 (Batc (None, 6, 6, 64)          256       \n",
      "_________________________________________________________________\n",
      "max_pooling2d_11 (MaxPooling (None, 3, 3, 64)          0         \n",
      "_________________________________________________________________\n",
      "dropout_13 (Dropout)         (None, 3, 3, 64)          0         \n",
      "_________________________________________________________________\n",
      "flatten_2 (Flatten)          (None, 576)               0         \n",
      "_________________________________________________________________\n",
      "dense_6 (Dense)              (None, 1024)              590848    \n",
      "_________________________________________________________________\n",
      "dense_7 (Dense)              (None, 512)               524800    \n",
      "_________________________________________________________________\n",
      "dropout_14 (Dropout)         (None, 512)               0         \n",
      "_________________________________________________________________\n",
      "batch_normalization_14 (Batc (None, 512)               2048      \n",
      "_________________________________________________________________\n",
      "dense_8 (Dense)              (None, 7)                 3591      \n",
      "=================================================================\n",
      "Total params: 1,288,903\n",
      "Trainable params: 1,287,303\n",
      "Non-trainable params: 1,600\n",
      "_________________________________________________________________\n"
     ]
    }
   ],
   "source": [
    "baseModel.summary()"
   ]
  },
  {
   "cell_type": "code",
   "execution_count": null,
   "metadata": {
    "id": "dH67XS6zZ8Vs"
   },
   "outputs": [],
   "source": [
    "baseModel.compile(loss=keras.losses.categorical_crossentropy,\n",
    "              optimizer=adam,\n",
    "              metrics=['accuracy'])"
   ]
  },
  {
   "cell_type": "markdown",
   "metadata": {
    "id": "AoPBDWxSB6v4"
   },
   "source": [
    "# CALLBACKS"
   ]
  },
  {
   "cell_type": "code",
   "execution_count": null,
   "metadata": {
    "id": "JsAQSmY5CBQb"
   },
   "outputs": [],
   "source": [
    "cp_filepath='models/Baseline-weights-best_adam.hdf5'\n",
    "\n",
    "rlrop = keras.callbacks.ReduceLROnPlateau(monitor='val_accuracy',mode='max',factor=0.5, patience=6, min_lr=0.00001, verbose=1)\n",
    "checkpoint = keras.callbacks.ModelCheckpoint(cp_filepath, monitor='val_accuracy', verbose=1, save_best_only=True, mode='max')\n",
    "callbacks_list = [rlrop,checkpoint]"
   ]
  },
  {
   "cell_type": "markdown",
   "metadata": {
    "id": "VKuG9Z0lCL8X"
   },
   "source": [
    "# TRAINING"
   ]
  },
  {
   "cell_type": "markdown",
   "metadata": {
    "id": "RW84Foe8IjiI"
   },
   "source": [
    "### Class weight"
   ]
  },
  {
   "cell_type": "code",
   "execution_count": null,
   "metadata": {
    "colab": {
     "base_uri": "https://localhost:8080/",
     "height": 51
    },
    "id": "GIyI-MIDF9Zo",
    "outputId": "62b5b264-53e4-4f57-bc7b-0c58510926d1"
   },
   "outputs": [
    {
     "name": "stdout",
     "output_type": "stream",
     "text": [
      "14.971247999387797\n",
      "{0: 1.0266046844269623, 1: 9.406618610747051, 2: 1.0010460615781582, 3: 0.5684387684387684, 4: 0.8491274770777877, 5: 1.293372978330405, 6: 0.8260394187886635}\n"
     ]
    }
   ],
   "source": [
    "from sklearn.utils import class_weight\n",
    "\n",
    "y_train_decoded = decode_one_hot(y_train)\n",
    "y_train_decoded = np.array(y_train_decoded)\n",
    "\n",
    "class_weights = class_weight.compute_class_weight('balanced',\n",
    "                                                    np.unique(y_train_decoded),\n",
    "                                                    y_train_decoded)\n",
    "\n",
    "print(sum(class_weights))\n",
    "\n",
    "\n",
    "class_weight = {\n",
    "    0:class_weights[0], \n",
    "    1:class_weights[1], \n",
    "    2:class_weights[2], \n",
    "    3:class_weights[3],\n",
    "    4:class_weights[4],\n",
    "    5:class_weights[5],\n",
    "    6:class_weights[6]\n",
    "}\n",
    "\n",
    "print(class_weight)\n"
   ]
  },
  {
   "cell_type": "code",
   "execution_count": null,
   "metadata": {
    "id": "9zB2RCYBcWSF"
   },
   "outputs": [],
   "source": [
    "history_baseline_adam = baseModel.fit(\n",
    "    datagen.flow(X_train, y_train, batch_size=batch_size),\n",
    "    steps_per_epoch=int(np.ceil(X_train.shape[0] / float(batch_size))),\n",
    "    epochs = epochs,\n",
    "    callbacks = callbacks_list,\n",
    "    #class_weight = class_weights, \n",
    "    validation_data=(X_val, y_val))"
   ]
  },
  {
   "cell_type": "code",
   "execution_count": null,
   "metadata": {
    "colab": {
     "base_uri": "https://localhost:8080/",
     "height": 51
    },
    "id": "BAjyN10DnbHT",
    "outputId": "53fc2e9a-3f36-4c5e-de40-3c3cffc199d6"
   },
   "outputs": [
    {
     "name": "stdout",
     "output_type": "stream",
     "text": [
      "29/29 [==============================] - 0s 6ms/step - loss: 0.9262 - accuracy: 0.6626\n"
     ]
    },
    {
     "data": {
      "text/plain": [
       "[0.9262048602104187, 0.662580132484436]"
      ]
     },
     "execution_count": 113,
     "metadata": {
      "tags": []
     },
     "output_type": "execute_result"
    }
   ],
   "source": [
    "baseModel.evaluate(X_test,y_test,batch_size=128)"
   ]
  },
  {
   "cell_type": "code",
   "execution_count": null,
   "metadata": {
    "id": "0hyujD3LBQ1D"
   },
   "outputs": [],
   "source": [
    "def decode_one_hot(batch_of_vectors):\n",
    "  \"\"\"Computes indices for the non-zero entries in batched one-hot vectors.\n",
    "\n",
    "  Args:\n",
    "    batch_of_vectors: A Tensor with length-N vectors, having shape [..., N].\n",
    "  Returns:\n",
    "    An integer Tensor with shape [...] indicating the index of the non-zero\n",
    "    value in each vector.\n",
    "  \"\"\"\n",
    "  nonzero_indices = tf.where(tf.not_equal(\n",
    "      batch_of_vectors, np.zeros_like(batch_of_vectors)))\n",
    "  reshaped_nonzero_indices = tf.reshape(\n",
    "      nonzero_indices[:, -1], tf.shape(batch_of_vectors)[:-1])\n",
    "  return reshaped_nonzero_indices"
   ]
  },
  {
   "cell_type": "code",
   "execution_count": null,
   "metadata": {
    "colab": {
     "base_uri": "https://localhost:8080/",
     "height": 399
    },
    "id": "c47cNuRr_1ai",
    "outputId": "5d99a969-63dc-4c27-8213-3d0578b0d190"
   },
   "outputs": [
    {
     "data": {
      "image/png": "[encoded data removed]",
      "text/plain": [
       "<Figure size 360x360 with 2 Axes>"
      ]
     },
     "metadata": {
      "needs_background": "light",
      "tags": []
     },
     "output_type": "display_data"
    }
   ],
   "source": [
    "from sklearn.metrics import confusion_matrix\n",
    "from seaborn import heatmap\n",
    "\n",
    "emotions = {0:'Angry', 1:'Disgust', 2:'Fear', 3:'Happy', 4:'Sad', 5:'Surprise', 6:'Neutral'}\n",
    "\n",
    "y_pred = baseModel.predict(X_test).argmax(axis=1)\n",
    "y_true = decode_one_hot(y_test)\n",
    "\n",
    "cmat_df_test=pd.DataFrame(\n",
    "  confusion_matrix(y_true, y_pred, normalize='true').round(2),\n",
    "  index=emotions.values(), \n",
    "  columns=emotions.values()\n",
    "  )\n",
    "\n",
    "plt.figure(figsize=(5,5))\n",
    "heatmap(cmat_df_test,annot=True,cmap=plt.cm.Blues)\n",
    "plt.tight_layout()\n",
    "plt.title('Confusion Matrix on Private Test Set')\n",
    "plt.ylabel('True label')\n",
    "plt.xlabel('Predicted label')\n",
    "plt.show()"
   ]
  },
  {
   "cell_type": "code",
   "execution_count": null,
   "metadata": {
    "colab": {
     "base_uri": "https://localhost:8080/",
     "height": 573
    },
    "id": "ZXb3aNqaS55l",
    "outputId": "c2287dc9-ce76-4952-c65c-aed8e2fc19cd"
   },
   "outputs": [
    {
     "data": {
      "image/png": "[encoded data removed]",
      "text/plain": [
       "<Figure size 432x288 with 1 Axes>"
      ]
     },
     "metadata": {
      "needs_background": "light",
      "tags": []
     },
     "output_type": "display_data"
    },
    {
     "data": {
      "image/png": "[encoded data removed]",
      "text/plain": [
       "<Figure size 432x288 with 1 Axes>"
      ]
     },
     "metadata": {
      "needs_background": "light",
      "tags": []
     },
     "output_type": "display_data"
    }
   ],
   "source": [
    "plt.plot(history_baseline_adam.history['accuracy'])\n",
    "plt.plot(history_baseline_adam.history['val_accuracy'])\n",
    "plt.title('model accuracy')\n",
    "plt.ylabel('accuracy')\n",
    "plt.xlabel('epoch')\n",
    "plt.legend(['train', 'dev'], loc='upper left')\n",
    "plt.show()\n",
    "# summarize history for loss\n",
    "plt.plot(history_baseline_adam.history['loss'])\n",
    "plt.plot(history_baseline_adam.history['val_loss'])\n",
    "plt.title('model loss')\n",
    "plt.ylabel('loss')\n",
    "plt.xlabel('epoch')\n",
    "plt.legend(['train', 'dev'], loc='upper left')\n",
    "plt.show()"
   ]
  },
  {
   "cell_type": "markdown",
   "metadata": {
    "id": "nH6anEV5TPaq"
   },
   "source": [
    "### TEST TIME AUGMENTATION\n",
    "\n",
    "working on it"
   ]
  },
  {
   "cell_type": "code",
   "execution_count": null,
   "metadata": {
    "id": "ynfNKamLEO-3"
   },
   "outputs": [],
   "source": [
    "from sklearn.metrics import accuracy_score\n",
    "# configure image data augmentation\n",
    "datagen = ImageDataGenerator(horizontal_flip=True)\n",
    "\n",
    "# make a prediction using test-time augmentation\n",
    "def tta_prediction(datagen, model, image, n_examples):\n",
    "\t# convert image into dataset\n",
    "    samples = np.expand_dims(image, 0)\n",
    "    print(samples.shape)\n",
    "\t# prepare iterator\n",
    "    it = datagen.flow(samples, batch_size=n_examples)\n",
    "    # make predictions for each augmented image\n",
    "    yhats = model.predict_generator(it, steps=n_examples, verbose=1)\n",
    "    # sum across predictions\n",
    "    summed = np.sum(yhats, axis=0)\n",
    "    # argmax across classes\n",
    "    return np.argmax(summed)\n",
    " \n",
    " # evaluate a model on a dataset using test-time augmentation\n",
    "def tta_evaluate_model(model, testX, testY):\n",
    "  # configure image data augmentation\n",
    "  datagen = ImageDataGenerator(horizontal_flip=True)\n",
    "  # define the number of augmented images to generate per test set image\n",
    "  n_examples_per_image = 7\n",
    "  yhats = list()\n",
    "  #print(testX.shape)\n",
    "  for i in range(len(testX)):\n",
    "    # make augmented prediction\n",
    "    print(testX[i].shape)\n",
    "    yhat = tta_prediction(datagen, model, testX[i], n_examples_per_image)\n",
    "    # store for evaluation\n",
    "    yhats.append(yhat)\n",
    "  # calculate accuracy\n",
    "  testY_labels = np.argmax(testY, axis=1)\n",
    "  acc = accuracy_score(testY_labels, yhats)\n",
    "  return acc"
   ]
  },
  {
   "cell_type": "code",
   "execution_count": null,
   "metadata": {
    "id": "dGkG-px5Ry7V"
   },
   "outputs": [],
   "source": [
    "print('\\n# Evaluate on test data')\n",
    "TTA_results_test = tta_evaluate_model(baseModel, X_test, y_test)\n",
    "print('test loss, test acc:', results_test)\n",
    "print('TTA test acc:', TTA_results_test)"
   ]
  },
  {
   "cell_type": "markdown",
   "metadata": {
    "id": "uM1p8qei5A3K"
   },
   "source": [
    "### SECOND BASELINE MODEL"
   ]
  },
  {
   "cell_type": "code",
   "execution_count": null,
   "metadata": {
    "id": "ALhqG5r00hVN"
   },
   "outputs": [],
   "source": [
    "def baselineModel2():\n",
    "    model = models.Sequential()\n",
    "    model.add(layers.Conv2D(32, (3, 3), activation='relu', padding='same', input_shape=input_shape))\n",
    "    model.add(layers.BatchNormalization())\n",
    "    model.add(layers.Conv2D(32, (3, 3), activation='relu', padding='same'))\n",
    "    model.add(layers.BatchNormalization())\n",
    "    model.add(layers.MaxPooling2D((2, 2)))\n",
    "    model.add(layers.Dropout(0.2))\n",
    "\n",
    "    model.add(layers.Conv2D(64, (3, 3), activation='relu', padding='same'))\n",
    "    model.add(layers.BatchNormalization())\n",
    "    model.add(layers.Conv2D(64, (3, 3), activation='relu', padding='same'))\n",
    "    model.add(layers.BatchNormalization())\n",
    "    model.add(layers.MaxPooling2D((2, 2)))\n",
    "    model.add(layers.Dropout(0.3))\n",
    "\n",
    "    model.add(layers.Conv2D(32, (3, 3), activation='relu', padding='same'))\n",
    "    model.add(layers.BatchNormalization())\n",
    "    model.add(layers.Conv2D(32, (3, 3), activation='relu', padding='same'))\n",
    "    model.add(layers.BatchNormalization())\n",
    "    model.add(layers.MaxPooling2D((2, 2)))\n",
    "    model.add(layers.Dropout(0.4))\n",
    "\n",
    "    model.add(layers.Flatten())\n",
    "    model.add(layers.Dense(512, activation='relu'))\n",
    "    model.add(layers.BatchNormalization())\n",
    "    model.add(layers.Dense(256, activation='relu'))\n",
    "    model.add(layers.BatchNormalization())\n",
    "    model.add(layers.Dropout(0.5))\n",
    "    model.add(layers.Dense(num_classes,activation='softmax'))\n",
    "    #model.add(layers.Dense(num_classes,activation='softmax'))\n",
    "\n",
    "    return model"
   ]
  },
  {
   "cell_type": "code",
   "execution_count": null,
   "metadata": {
    "id": "CF1AHO3921lQ"
   },
   "outputs": [],
   "source": [
    "baseModel2 = baselineModel2() \n"
   ]
  },
  {
   "cell_type": "code",
   "execution_count": null,
   "metadata": {
    "id": "WkbUzfsk3Evt"
   },
   "outputs": [],
   "source": [
    "baseModel2.compile(loss=keras.losses.categorical_crossentropy,\n",
    "              optimizer=sgd,\n",
    "              metrics=['accuracy'])"
   ]
  },
  {
   "cell_type": "code",
   "execution_count": null,
   "metadata": {
    "id": "h_kfywwFVrtJ"
   },
   "outputs": [],
   "source": [
    "cp_filepath='models/BaselineV2-weights-best_sgd.hdf5'\n",
    "\n",
    "\n",
    "rlrop = keras.callbacks.ReduceLROnPlateau(monitor='val_accuracy',mode='max',factor=0.5, patience=7, min_lr=0.00001, verbose=1)\n",
    "checkpoint = keras.callbacks.ModelCheckpoint(cp_filepath, monitor='val_accuracy', verbose=1, save_best_only=True, mode='max')\n",
    "callbacks_list = [rlrop,checkpoint]"
   ]
  },
  {
   "cell_type": "code",
   "execution_count": null,
   "metadata": {
    "colab": {
     "base_uri": "https://localhost:8080/",
     "height": 1000
    },
    "id": "7iPqbvln2MrY",
    "outputId": "a5d8d999-ec3b-4d7a-a5c4-d789d9908673"
   },
   "outputs": [
    {
     "name": "stdout",
     "output_type": "stream",
     "text": [
      "Epoch 1/150\n",
      "225/225 [==============================] - ETA: 0s - loss: 2.1303 - accuracy: 0.2387\n",
      "Epoch 00001: val_accuracy improved from -inf to 0.26247, saving model to models/BaselineV2-weights-best_sgd.hdf5\n",
      "225/225 [==============================] - 8s 34ms/step - loss: 2.1303 - accuracy: 0.2387 - val_loss: 1.8362 - val_accuracy: 0.2625\n",
      "Epoch 2/150\n",
      "224/225 [============================>.] - ETA: 0s - loss: 1.7111 - accuracy: 0.3282\n",
      "Epoch 00002: val_accuracy improved from 0.26247 to 0.32823, saving model to models/BaselineV2-weights-best_sgd.hdf5\n",
      "225/225 [==============================] - 7s 31ms/step - loss: 1.7107 - accuracy: 0.3283 - val_loss: 1.7120 - val_accuracy: 0.3282\n",
      "Epoch 3/150\n",
      "224/225 [============================>.] - ETA: 0s - loss: 1.6163 - accuracy: 0.3680\n",
      "Epoch 00003: val_accuracy improved from 0.32823 to 0.35302, saving model to models/BaselineV2-weights-best_sgd.hdf5\n",
      "225/225 [==============================] - 7s 31ms/step - loss: 1.6157 - accuracy: 0.3682 - val_loss: 1.6696 - val_accuracy: 0.3530\n",
      "Epoch 4/150\n",
      "224/225 [============================>.] - ETA: 0s - loss: 1.5462 - accuracy: 0.3988\n",
      "Epoch 00004: val_accuracy improved from 0.35302 to 0.42825, saving model to models/BaselineV2-weights-best_sgd.hdf5\n",
      "225/225 [==============================] - 7s 31ms/step - loss: 1.5456 - accuracy: 0.3992 - val_loss: 1.4908 - val_accuracy: 0.4283\n",
      "Epoch 5/150\n",
      "224/225 [============================>.] - ETA: 0s - loss: 1.4930 - accuracy: 0.4208\n",
      "Epoch 00005: val_accuracy improved from 0.42825 to 0.44079, saving model to models/BaselineV2-weights-best_sgd.hdf5\n",
      "225/225 [==============================] - 7s 31ms/step - loss: 1.4937 - accuracy: 0.4206 - val_loss: 1.4588 - val_accuracy: 0.4408\n",
      "Epoch 6/150\n",
      "224/225 [============================>.] - ETA: 0s - loss: 1.4569 - accuracy: 0.4352\n",
      "Epoch 00006: val_accuracy improved from 0.44079 to 0.45249, saving model to models/BaselineV2-weights-best_sgd.hdf5\n",
      "225/225 [==============================] - 7s 31ms/step - loss: 1.4564 - accuracy: 0.4357 - val_loss: 1.4159 - val_accuracy: 0.4525\n",
      "Epoch 7/150\n",
      "224/225 [============================>.] - ETA: 0s - loss: 1.4193 - accuracy: 0.4513\n",
      "Epoch 00007: val_accuracy did not improve from 0.45249\n",
      "225/225 [==============================] - 7s 29ms/step - loss: 1.4193 - accuracy: 0.4511 - val_loss: 1.4457 - val_accuracy: 0.4283\n",
      "Epoch 8/150\n",
      "224/225 [============================>.] - ETA: 0s - loss: 1.3841 - accuracy: 0.4648\n",
      "Epoch 00008: val_accuracy improved from 0.45249 to 0.49289, saving model to models/BaselineV2-weights-best_sgd.hdf5\n",
      "225/225 [==============================] - 7s 32ms/step - loss: 1.3846 - accuracy: 0.4647 - val_loss: 1.3275 - val_accuracy: 0.4929\n",
      "Epoch 9/150\n",
      "224/225 [============================>.] - ETA: 0s - loss: 1.3582 - accuracy: 0.4764\n",
      "Epoch 00009: val_accuracy did not improve from 0.49289\n",
      "225/225 [==============================] - 6s 29ms/step - loss: 1.3580 - accuracy: 0.4764 - val_loss: 1.3521 - val_accuracy: 0.4751\n",
      "Epoch 10/150\n",
      "225/225 [==============================] - ETA: 0s - loss: 1.3362 - accuracy: 0.4819\n",
      "Epoch 00010: val_accuracy improved from 0.49289 to 0.50125, saving model to models/BaselineV2-weights-best_sgd.hdf5\n",
      "225/225 [==============================] - 7s 32ms/step - loss: 1.3362 - accuracy: 0.4819 - val_loss: 1.2761 - val_accuracy: 0.5013\n",
      "Epoch 11/150\n",
      "225/225 [==============================] - ETA: 0s - loss: 1.3189 - accuracy: 0.4898\n",
      "Epoch 00011: val_accuracy did not improve from 0.50125\n",
      "225/225 [==============================] - 6s 28ms/step - loss: 1.3189 - accuracy: 0.4898 - val_loss: 1.3953 - val_accuracy: 0.4609\n",
      "Epoch 12/150\n",
      "225/225 [==============================] - ETA: 0s - loss: 1.3034 - accuracy: 0.4971\n",
      "Epoch 00012: val_accuracy improved from 0.50125 to 0.50850, saving model to models/BaselineV2-weights-best_sgd.hdf5\n",
      "225/225 [==============================] - 7s 33ms/step - loss: 1.3034 - accuracy: 0.4971 - val_loss: 1.2561 - val_accuracy: 0.5085\n",
      "Epoch 13/150\n",
      "224/225 [============================>.] - ETA: 0s - loss: 1.2828 - accuracy: 0.5066\n",
      "Epoch 00013: val_accuracy improved from 0.50850 to 0.52327, saving model to models/BaselineV2-weights-best_sgd.hdf5\n",
      "225/225 [==============================] - 7s 31ms/step - loss: 1.2831 - accuracy: 0.5066 - val_loss: 1.2151 - val_accuracy: 0.5233\n",
      "Epoch 14/150\n",
      "225/225 [==============================] - ETA: 0s - loss: 1.2707 - accuracy: 0.5127\n",
      "Epoch 00014: val_accuracy did not improve from 0.52327\n",
      "225/225 [==============================] - 6s 29ms/step - loss: 1.2707 - accuracy: 0.5127 - val_loss: 1.2252 - val_accuracy: 0.5227\n",
      "Epoch 15/150\n",
      "224/225 [============================>.] - ETA: 0s - loss: 1.2576 - accuracy: 0.5153\n",
      "Epoch 00015: val_accuracy improved from 0.52327 to 0.53357, saving model to models/BaselineV2-weights-best_sgd.hdf5\n",
      "225/225 [==============================] - 7s 32ms/step - loss: 1.2584 - accuracy: 0.5151 - val_loss: 1.1997 - val_accuracy: 0.5336\n",
      "Epoch 16/150\n",
      "224/225 [============================>.] - ETA: 0s - loss: 1.2435 - accuracy: 0.5240\n",
      "Epoch 00016: val_accuracy did not improve from 0.53357\n",
      "225/225 [==============================] - 6s 29ms/step - loss: 1.2435 - accuracy: 0.5239 - val_loss: 1.2111 - val_accuracy: 0.5224\n",
      "Epoch 17/150\n",
      "224/225 [============================>.] - ETA: 0s - loss: 1.2384 - accuracy: 0.5254\n",
      "Epoch 00017: val_accuracy did not improve from 0.53357\n",
      "225/225 [==============================] - 7s 29ms/step - loss: 1.2386 - accuracy: 0.5254 - val_loss: 1.2079 - val_accuracy: 0.5322\n",
      "Epoch 18/150\n",
      "224/225 [============================>.] - ETA: 0s - loss: 1.2287 - accuracy: 0.5271\n",
      "Epoch 00018: val_accuracy improved from 0.53357 to 0.53553, saving model to models/BaselineV2-weights-best_sgd.hdf5\n",
      "225/225 [==============================] - 7s 32ms/step - loss: 1.2282 - accuracy: 0.5271 - val_loss: 1.1896 - val_accuracy: 0.5355\n",
      "Epoch 19/150\n",
      "224/225 [============================>.] - ETA: 0s - loss: 1.2141 - accuracy: 0.5333\n",
      "Epoch 00019: val_accuracy did not improve from 0.53553\n",
      "225/225 [==============================] - 7s 29ms/step - loss: 1.2148 - accuracy: 0.5330 - val_loss: 1.2798 - val_accuracy: 0.5052\n",
      "Epoch 20/150\n",
      "224/225 [============================>.] - ETA: 0s - loss: 1.2082 - accuracy: 0.5353\n",
      "Epoch 00020: val_accuracy improved from 0.53553 to 0.54388, saving model to models/BaselineV2-weights-best_sgd.hdf5\n",
      "225/225 [==============================] - 7s 33ms/step - loss: 1.2080 - accuracy: 0.5352 - val_loss: 1.1747 - val_accuracy: 0.5439\n",
      "Epoch 21/150\n",
      "224/225 [============================>.] - ETA: 0s - loss: 1.1951 - accuracy: 0.5419\n",
      "Epoch 00021: val_accuracy did not improve from 0.54388\n",
      "225/225 [==============================] - 6s 29ms/step - loss: 1.1959 - accuracy: 0.5417 - val_loss: 1.1998 - val_accuracy: 0.5389\n",
      "Epoch 22/150\n",
      "224/225 [============================>.] - ETA: 0s - loss: 1.1853 - accuracy: 0.5445\n",
      "Epoch 00022: val_accuracy improved from 0.54388 to 0.55364, saving model to models/BaselineV2-weights-best_sgd.hdf5\n",
      "225/225 [==============================] - 7s 33ms/step - loss: 1.1851 - accuracy: 0.5447 - val_loss: 1.1804 - val_accuracy: 0.5536\n",
      "Epoch 23/150\n",
      "224/225 [============================>.] - ETA: 0s - loss: 1.1799 - accuracy: 0.5498\n",
      "Epoch 00023: val_accuracy did not improve from 0.55364\n",
      "225/225 [==============================] - 6s 29ms/step - loss: 1.1797 - accuracy: 0.5497 - val_loss: 1.1527 - val_accuracy: 0.5520\n",
      "Epoch 24/150\n",
      "224/225 [============================>.] - ETA: 0s - loss: 1.1767 - accuracy: 0.5499\n",
      "Epoch 00024: val_accuracy improved from 0.55364 to 0.56227, saving model to models/BaselineV2-weights-best_sgd.hdf5\n",
      "225/225 [==============================] - 7s 32ms/step - loss: 1.1759 - accuracy: 0.5504 - val_loss: 1.1392 - val_accuracy: 0.5623\n",
      "Epoch 25/150\n",
      "225/225 [==============================] - ETA: 0s - loss: 1.1676 - accuracy: 0.5525\n",
      "Epoch 00025: val_accuracy did not improve from 0.56227\n",
      "225/225 [==============================] - 6s 29ms/step - loss: 1.1676 - accuracy: 0.5525 - val_loss: 1.1828 - val_accuracy: 0.5450\n",
      "Epoch 26/150\n",
      "225/225 [==============================] - ETA: 0s - loss: 1.1577 - accuracy: 0.5543\n",
      "Epoch 00026: val_accuracy did not improve from 0.56227\n",
      "225/225 [==============================] - 7s 29ms/step - loss: 1.1577 - accuracy: 0.5543 - val_loss: 1.1661 - val_accuracy: 0.5584\n",
      "Epoch 27/150\n",
      "224/225 [============================>.] - ETA: 0s - loss: 1.1531 - accuracy: 0.5586\n",
      "Epoch 00027: val_accuracy improved from 0.56227 to 0.57147, saving model to models/BaselineV2-weights-best_sgd.hdf5\n",
      "225/225 [==============================] - 7s 33ms/step - loss: 1.1528 - accuracy: 0.5586 - val_loss: 1.1145 - val_accuracy: 0.5715\n",
      "Epoch 28/150\n",
      "225/225 [==============================] - ETA: 0s - loss: 1.1402 - accuracy: 0.5639\n",
      "Epoch 00028: val_accuracy did not improve from 0.57147\n",
      "225/225 [==============================] - 6s 29ms/step - loss: 1.1402 - accuracy: 0.5639 - val_loss: 1.1240 - val_accuracy: 0.5684\n",
      "Epoch 29/150\n",
      "224/225 [============================>.] - ETA: 0s - loss: 1.1328 - accuracy: 0.5681\n",
      "Epoch 00029: val_accuracy did not improve from 0.57147\n",
      "225/225 [==============================] - 6s 29ms/step - loss: 1.1330 - accuracy: 0.5680 - val_loss: 1.1199 - val_accuracy: 0.5681\n",
      "Epoch 30/150\n",
      "224/225 [============================>.] - ETA: 0s - loss: 1.1321 - accuracy: 0.5707\n",
      "Epoch 00030: val_accuracy did not improve from 0.57147\n",
      "225/225 [==============================] - 6s 29ms/step - loss: 1.1322 - accuracy: 0.5706 - val_loss: 1.1441 - val_accuracy: 0.5545\n",
      "Epoch 31/150\n",
      "224/225 [============================>.] - ETA: 0s - loss: 1.1217 - accuracy: 0.5701\n",
      "Epoch 00031: val_accuracy improved from 0.57147 to 0.58094, saving model to models/BaselineV2-weights-best_sgd.hdf5\n",
      "225/225 [==============================] - 7s 33ms/step - loss: 1.1215 - accuracy: 0.5702 - val_loss: 1.0974 - val_accuracy: 0.5809\n",
      "Epoch 32/150\n",
      "224/225 [============================>.] - ETA: 0s - loss: 1.1222 - accuracy: 0.5709\n",
      "Epoch 00032: val_accuracy did not improve from 0.58094\n",
      "225/225 [==============================] - 6s 29ms/step - loss: 1.1221 - accuracy: 0.5712 - val_loss: 1.1608 - val_accuracy: 0.5612\n",
      "Epoch 33/150\n",
      "224/225 [============================>.] - ETA: 0s - loss: 1.1126 - accuracy: 0.5770\n",
      "Epoch 00033: val_accuracy improved from 0.58094 to 0.58791, saving model to models/BaselineV2-weights-best_sgd.hdf5\n",
      "225/225 [==============================] - 7s 33ms/step - loss: 1.1125 - accuracy: 0.5771 - val_loss: 1.0934 - val_accuracy: 0.5879\n",
      "Epoch 34/150\n",
      "224/225 [============================>.] - ETA: 0s - loss: 1.1068 - accuracy: 0.5771\n",
      "Epoch 00034: val_accuracy did not improve from 0.58791\n",
      "225/225 [==============================] - 6s 29ms/step - loss: 1.1070 - accuracy: 0.5771 - val_loss: 1.1202 - val_accuracy: 0.5637\n",
      "Epoch 35/150\n",
      "224/225 [============================>.] - ETA: 0s - loss: 1.1022 - accuracy: 0.5772\n",
      "Epoch 00035: val_accuracy did not improve from 0.58791\n",
      "225/225 [==============================] - 6s 29ms/step - loss: 1.1023 - accuracy: 0.5770 - val_loss: 1.0954 - val_accuracy: 0.5815\n",
      "Epoch 36/150\n",
      "224/225 [============================>.] - ETA: 0s - loss: 1.0938 - accuracy: 0.5827\n",
      "Epoch 00036: val_accuracy improved from 0.58791 to 0.59404, saving model to models/BaselineV2-weights-best_sgd.hdf5\n",
      "225/225 [==============================] - 7s 32ms/step - loss: 1.0939 - accuracy: 0.5825 - val_loss: 1.0738 - val_accuracy: 0.5940\n",
      "Epoch 37/150\n",
      "225/225 [==============================] - ETA: 0s - loss: 1.0996 - accuracy: 0.5800\n",
      "Epoch 00037: val_accuracy did not improve from 0.59404\n",
      "225/225 [==============================] - 6s 29ms/step - loss: 1.0996 - accuracy: 0.5800 - val_loss: 1.1022 - val_accuracy: 0.5729\n",
      "Epoch 38/150\n",
      "224/225 [============================>.] - ETA: 0s - loss: 1.0904 - accuracy: 0.5850\n",
      "Epoch 00038: val_accuracy did not improve from 0.59404\n",
      "225/225 [==============================] - 6s 29ms/step - loss: 1.0903 - accuracy: 0.5853 - val_loss: 1.0985 - val_accuracy: 0.5818\n",
      "Epoch 39/150\n",
      "224/225 [============================>.] - ETA: 0s - loss: 1.0823 - accuracy: 0.5851\n",
      "Epoch 00039: val_accuracy did not improve from 0.59404\n",
      "225/225 [==============================] - 6s 28ms/step - loss: 1.0822 - accuracy: 0.5854 - val_loss: 1.0945 - val_accuracy: 0.5798\n",
      "Epoch 40/150\n",
      "224/225 [============================>.] - ETA: 0s - loss: 1.0791 - accuracy: 0.5879\n",
      "Epoch 00040: val_accuracy did not improve from 0.59404\n",
      "225/225 [==============================] - 7s 29ms/step - loss: 1.0789 - accuracy: 0.5880 - val_loss: 1.0702 - val_accuracy: 0.5924\n",
      "Epoch 41/150\n",
      "224/225 [============================>.] - ETA: 0s - loss: 1.0680 - accuracy: 0.5932\n",
      "Epoch 00041: val_accuracy improved from 0.59404 to 0.59571, saving model to models/BaselineV2-weights-best_sgd.hdf5\n",
      "225/225 [==============================] - 7s 33ms/step - loss: 1.0677 - accuracy: 0.5933 - val_loss: 1.0620 - val_accuracy: 0.5957\n",
      "Epoch 42/150\n",
      "224/225 [============================>.] - ETA: 0s - loss: 1.0693 - accuracy: 0.5931\n",
      "Epoch 00042: val_accuracy did not improve from 0.59571\n",
      "225/225 [==============================] - 7s 29ms/step - loss: 1.0692 - accuracy: 0.5931 - val_loss: 1.1254 - val_accuracy: 0.5706\n",
      "Epoch 43/150\n",
      "224/225 [============================>.] - ETA: 0s - loss: 1.0625 - accuracy: 0.5993\n",
      "Epoch 00043: val_accuracy did not improve from 0.59571\n",
      "225/225 [==============================] - 6s 29ms/step - loss: 1.0625 - accuracy: 0.5994 - val_loss: 1.0762 - val_accuracy: 0.5935\n",
      "Epoch 44/150\n",
      "224/225 [============================>.] - ETA: 0s - loss: 1.0658 - accuracy: 0.5915\n",
      "Epoch 00044: val_accuracy did not improve from 0.59571\n",
      "225/225 [==============================] - 6s 29ms/step - loss: 1.0657 - accuracy: 0.5916 - val_loss: 1.0841 - val_accuracy: 0.5851\n",
      "Epoch 45/150\n",
      "224/225 [============================>.] - ETA: 0s - loss: 1.0597 - accuracy: 0.5984\n",
      "Epoch 00045: val_accuracy did not improve from 0.59571\n",
      "225/225 [==============================] - 6s 29ms/step - loss: 1.0597 - accuracy: 0.5987 - val_loss: 1.0550 - val_accuracy: 0.5952\n",
      "Epoch 46/150\n",
      "224/225 [============================>.] - ETA: 0s - loss: 1.0577 - accuracy: 0.5999\n",
      "Epoch 00046: val_accuracy improved from 0.59571 to 0.59654, saving model to models/BaselineV2-weights-best_sgd.hdf5\n",
      "225/225 [==============================] - 7s 32ms/step - loss: 1.0580 - accuracy: 0.5998 - val_loss: 1.0616 - val_accuracy: 0.5965\n",
      "Epoch 47/150\n",
      "224/225 [============================>.] - ETA: 0s - loss: 1.0463 - accuracy: 0.6002\n",
      "Epoch 00047: val_accuracy improved from 0.59654 to 0.59989, saving model to models/BaselineV2-weights-best_sgd.hdf5\n",
      "225/225 [==============================] - 7s 30ms/step - loss: 1.0468 - accuracy: 0.6000 - val_loss: 1.0664 - val_accuracy: 0.5999\n",
      "Epoch 48/150\n",
      "224/225 [============================>.] - ETA: 0s - loss: 1.0451 - accuracy: 0.6014\n",
      "Epoch 00048: val_accuracy improved from 0.59989 to 0.60072, saving model to models/BaselineV2-weights-best_sgd.hdf5\n",
      "225/225 [==============================] - 7s 30ms/step - loss: 1.0454 - accuracy: 0.6010 - val_loss: 1.0512 - val_accuracy: 0.6007\n",
      "Epoch 49/150\n",
      "224/225 [============================>.] - ETA: 0s - loss: 1.0414 - accuracy: 0.6053\n",
      "Epoch 00049: val_accuracy did not improve from 0.60072\n",
      "225/225 [==============================] - 7s 29ms/step - loss: 1.0417 - accuracy: 0.6052 - val_loss: 1.0575 - val_accuracy: 0.5938\n",
      "Epoch 50/150\n",
      "224/225 [============================>.] - ETA: 0s - loss: 1.0412 - accuracy: 0.6044\n",
      "Epoch 00050: val_accuracy did not improve from 0.60072\n",
      "225/225 [==============================] - 6s 29ms/step - loss: 1.0409 - accuracy: 0.6044 - val_loss: 1.0680 - val_accuracy: 0.5913\n",
      "Epoch 51/150\n",
      "224/225 [============================>.] - ETA: 0s - loss: 1.0335 - accuracy: 0.6084\n",
      "Epoch 00051: val_accuracy did not improve from 0.60072\n",
      "225/225 [==============================] - 6s 29ms/step - loss: 1.0339 - accuracy: 0.6081 - val_loss: 1.0641 - val_accuracy: 0.5965\n",
      "Epoch 52/150\n",
      "224/225 [============================>.] - ETA: 0s - loss: 1.0341 - accuracy: 0.6078\n",
      "Epoch 00052: val_accuracy did not improve from 0.60072\n",
      "225/225 [==============================] - 6s 29ms/step - loss: 1.0345 - accuracy: 0.6078 - val_loss: 1.0487 - val_accuracy: 0.5991\n",
      "Epoch 53/150\n",
      "224/225 [============================>.] - ETA: 0s - loss: 1.0298 - accuracy: 0.6086\n",
      "Epoch 00053: val_accuracy did not improve from 0.60072\n",
      "225/225 [==============================] - 6s 29ms/step - loss: 1.0292 - accuracy: 0.6090 - val_loss: 1.1017 - val_accuracy: 0.5860\n",
      "Epoch 54/150\n",
      "224/225 [============================>.] - ETA: 0s - loss: 1.0208 - accuracy: 0.6129\n",
      "Epoch 00054: val_accuracy improved from 0.60072 to 0.60267, saving model to models/BaselineV2-weights-best_sgd.hdf5\n",
      "225/225 [==============================] - 7s 32ms/step - loss: 1.0211 - accuracy: 0.6128 - val_loss: 1.0416 - val_accuracy: 0.6027\n",
      "Epoch 55/150\n",
      "224/225 [============================>.] - ETA: 0s - loss: 1.0230 - accuracy: 0.6096\n",
      "Epoch 00055: val_accuracy did not improve from 0.60267\n",
      "225/225 [==============================] - 6s 29ms/step - loss: 1.0229 - accuracy: 0.6094 - val_loss: 1.0441 - val_accuracy: 0.6004\n",
      "Epoch 56/150\n",
      "224/225 [============================>.] - ETA: 0s - loss: 1.0225 - accuracy: 0.6126\n",
      "Epoch 00056: val_accuracy improved from 0.60267 to 0.60323, saving model to models/BaselineV2-weights-best_sgd.hdf5\n",
      "225/225 [==============================] - 7s 32ms/step - loss: 1.0219 - accuracy: 0.6128 - val_loss: 1.0479 - val_accuracy: 0.6032\n",
      "Epoch 57/150\n",
      "224/225 [============================>.] - ETA: 0s - loss: 1.0166 - accuracy: 0.6142\n",
      "Epoch 00057: val_accuracy did not improve from 0.60323\n",
      "225/225 [==============================] - 6s 29ms/step - loss: 1.0166 - accuracy: 0.6141 - val_loss: 1.0600 - val_accuracy: 0.6016\n",
      "Epoch 58/150\n",
      "224/225 [============================>.] - ETA: 0s - loss: 1.0137 - accuracy: 0.6150\n",
      "Epoch 00058: val_accuracy improved from 0.60323 to 0.60936, saving model to models/BaselineV2-weights-best_sgd.hdf5\n",
      "225/225 [==============================] - 7s 32ms/step - loss: 1.0135 - accuracy: 0.6147 - val_loss: 1.0344 - val_accuracy: 0.6094\n",
      "Epoch 59/150\n",
      "224/225 [============================>.] - ETA: 0s - loss: 1.0098 - accuracy: 0.6174\n",
      "Epoch 00059: val_accuracy did not improve from 0.60936\n",
      "225/225 [==============================] - 6s 29ms/step - loss: 1.0095 - accuracy: 0.6173 - val_loss: 1.0415 - val_accuracy: 0.6069\n",
      "Epoch 60/150\n",
      "224/225 [============================>.] - ETA: 0s - loss: 1.0039 - accuracy: 0.6197\n",
      "Epoch 00060: val_accuracy did not improve from 0.60936\n",
      "225/225 [==============================] - 6s 29ms/step - loss: 1.0046 - accuracy: 0.6193 - val_loss: 1.0599 - val_accuracy: 0.6007\n",
      "Epoch 61/150\n",
      "224/225 [============================>.] - ETA: 0s - loss: 1.0027 - accuracy: 0.6153\n",
      "Epoch 00061: val_accuracy did not improve from 0.60936\n",
      "225/225 [==============================] - 6s 29ms/step - loss: 1.0033 - accuracy: 0.6150 - val_loss: 1.0304 - val_accuracy: 0.6094\n",
      "Epoch 62/150\n",
      "225/225 [==============================] - ETA: 0s - loss: 0.9986 - accuracy: 0.6227\n",
      "Epoch 00062: val_accuracy improved from 0.60936 to 0.61076, saving model to models/BaselineV2-weights-best_sgd.hdf5\n",
      "225/225 [==============================] - 7s 32ms/step - loss: 0.9986 - accuracy: 0.6227 - val_loss: 1.0363 - val_accuracy: 0.6108\n",
      "Epoch 63/150\n",
      "224/225 [============================>.] - ETA: 0s - loss: 1.0024 - accuracy: 0.6185\n",
      "Epoch 00063: val_accuracy did not improve from 0.61076\n",
      "225/225 [==============================] - 6s 29ms/step - loss: 1.0028 - accuracy: 0.6183 - val_loss: 1.0691 - val_accuracy: 0.6069\n",
      "Epoch 64/150\n",
      "224/225 [============================>.] - ETA: 0s - loss: 0.9944 - accuracy: 0.6224\n",
      "Epoch 00064: val_accuracy did not improve from 0.61076\n",
      "225/225 [==============================] - 6s 29ms/step - loss: 0.9946 - accuracy: 0.6225 - val_loss: 1.0507 - val_accuracy: 0.6052\n",
      "Epoch 65/150\n",
      "224/225 [============================>.] - ETA: 0s - loss: 0.9945 - accuracy: 0.6252\n",
      "Epoch 00065: val_accuracy did not improve from 0.61076\n",
      "225/225 [==============================] - 6s 29ms/step - loss: 0.9944 - accuracy: 0.6251 - val_loss: 1.0400 - val_accuracy: 0.6035\n",
      "Epoch 66/150\n",
      "224/225 [============================>.] - ETA: 0s - loss: 0.9922 - accuracy: 0.6266\n",
      "Epoch 00066: val_accuracy did not improve from 0.61076\n",
      "225/225 [==============================] - 6s 28ms/step - loss: 0.9921 - accuracy: 0.6266 - val_loss: 1.0384 - val_accuracy: 0.6077\n",
      "Epoch 67/150\n",
      "225/225 [==============================] - ETA: 0s - loss: 0.9853 - accuracy: 0.6267\n",
      "Epoch 00067: val_accuracy did not improve from 0.61076\n",
      "225/225 [==============================] - 6s 29ms/step - loss: 0.9853 - accuracy: 0.6267 - val_loss: 1.0442 - val_accuracy: 0.6105\n",
      "Epoch 68/150\n",
      "224/225 [============================>.] - ETA: 0s - loss: 0.9860 - accuracy: 0.6243\n",
      "Epoch 00068: val_accuracy improved from 0.61076 to 0.61215, saving model to models/BaselineV2-weights-best_sgd.hdf5\n",
      "225/225 [==============================] - 7s 32ms/step - loss: 0.9863 - accuracy: 0.6242 - val_loss: 1.0250 - val_accuracy: 0.6121\n",
      "Epoch 69/150\n",
      "224/225 [============================>.] - ETA: 0s - loss: 0.9787 - accuracy: 0.6311\n",
      "Epoch 00069: val_accuracy did not improve from 0.61215\n",
      "225/225 [==============================] - 6s 28ms/step - loss: 0.9792 - accuracy: 0.6308 - val_loss: 1.0364 - val_accuracy: 0.6105\n",
      "Epoch 70/150\n",
      "225/225 [==============================] - ETA: 0s - loss: 0.9800 - accuracy: 0.6294\n",
      "Epoch 00070: val_accuracy improved from 0.61215 to 0.61243, saving model to models/BaselineV2-weights-best_sgd.hdf5\n",
      "225/225 [==============================] - 7s 32ms/step - loss: 0.9800 - accuracy: 0.6294 - val_loss: 1.0239 - val_accuracy: 0.6124\n",
      "Epoch 71/150\n",
      "225/225 [==============================] - ETA: 0s - loss: 0.9746 - accuracy: 0.6308\n",
      "Epoch 00071: val_accuracy improved from 0.61243 to 0.61493, saving model to models/BaselineV2-weights-best_sgd.hdf5\n",
      "225/225 [==============================] - 7s 30ms/step - loss: 0.9746 - accuracy: 0.6308 - val_loss: 1.0455 - val_accuracy: 0.6149\n",
      "Epoch 72/150\n",
      "225/225 [==============================] - ETA: 0s - loss: 0.9789 - accuracy: 0.6272\n",
      "Epoch 00072: val_accuracy did not improve from 0.61493\n",
      "225/225 [==============================] - 6s 29ms/step - loss: 0.9789 - accuracy: 0.6272 - val_loss: 1.0563 - val_accuracy: 0.6016\n",
      "Epoch 73/150\n",
      "225/225 [==============================] - ETA: 0s - loss: 0.9679 - accuracy: 0.6343\n",
      "Epoch 00073: val_accuracy did not improve from 0.61493\n",
      "225/225 [==============================] - 6s 29ms/step - loss: 0.9679 - accuracy: 0.6343 - val_loss: 1.0330 - val_accuracy: 0.6085\n",
      "Epoch 74/150\n",
      "224/225 [============================>.] - ETA: 0s - loss: 0.9727 - accuracy: 0.6303\n",
      "Epoch 00074: val_accuracy did not improve from 0.61493\n",
      "225/225 [==============================] - 6s 28ms/step - loss: 0.9723 - accuracy: 0.6305 - val_loss: 1.0218 - val_accuracy: 0.6138\n",
      "Epoch 75/150\n",
      "224/225 [============================>.] - ETA: 0s - loss: 0.9686 - accuracy: 0.6333\n",
      "Epoch 00075: val_accuracy improved from 0.61493 to 0.61521, saving model to models/BaselineV2-weights-best_sgd.hdf5\n",
      "225/225 [==============================] - 7s 32ms/step - loss: 0.9686 - accuracy: 0.6333 - val_loss: 1.0249 - val_accuracy: 0.6152\n",
      "Epoch 76/150\n",
      "224/225 [============================>.] - ETA: 0s - loss: 0.9620 - accuracy: 0.6364\n",
      "Epoch 00076: val_accuracy improved from 0.61521 to 0.61800, saving model to models/BaselineV2-weights-best_sgd.hdf5\n",
      "225/225 [==============================] - 7s 31ms/step - loss: 0.9618 - accuracy: 0.6366 - val_loss: 1.0184 - val_accuracy: 0.6180\n",
      "Epoch 77/150\n",
      "225/225 [==============================] - ETA: 0s - loss: 0.9577 - accuracy: 0.6345\n",
      "Epoch 00077: val_accuracy did not improve from 0.61800\n",
      "225/225 [==============================] - 6s 29ms/step - loss: 0.9577 - accuracy: 0.6345 - val_loss: 1.0257 - val_accuracy: 0.6155\n",
      "Epoch 78/150\n",
      "224/225 [============================>.] - ETA: 0s - loss: 0.9597 - accuracy: 0.6344\n",
      "Epoch 00078: val_accuracy did not improve from 0.61800\n",
      "225/225 [==============================] - 6s 29ms/step - loss: 0.9599 - accuracy: 0.6344 - val_loss: 1.0169 - val_accuracy: 0.6160\n",
      "Epoch 79/150\n",
      "224/225 [============================>.] - ETA: 0s - loss: 0.9559 - accuracy: 0.6391\n",
      "Epoch 00079: val_accuracy did not improve from 0.61800\n",
      "225/225 [==============================] - 6s 29ms/step - loss: 0.9559 - accuracy: 0.6392 - val_loss: 1.0180 - val_accuracy: 0.6105\n",
      "Epoch 80/150\n",
      "224/225 [============================>.] - ETA: 0s - loss: 0.9551 - accuracy: 0.6420\n",
      "Epoch 00080: val_accuracy did not improve from 0.61800\n",
      "225/225 [==============================] - 6s 29ms/step - loss: 0.9548 - accuracy: 0.6420 - val_loss: 1.0362 - val_accuracy: 0.6158\n",
      "Epoch 81/150\n",
      "224/225 [============================>.] - ETA: 0s - loss: 0.9536 - accuracy: 0.6372\n",
      "Epoch 00081: val_accuracy did not improve from 0.61800\n",
      "225/225 [==============================] - 6s 29ms/step - loss: 0.9539 - accuracy: 0.6372 - val_loss: 1.0328 - val_accuracy: 0.6099\n",
      "Epoch 82/150\n",
      "224/225 [============================>.] - ETA: 0s - loss: 0.9487 - accuracy: 0.6403\n",
      "Epoch 00082: val_accuracy did not improve from 0.61800\n",
      "225/225 [==============================] - 6s 28ms/step - loss: 0.9487 - accuracy: 0.6407 - val_loss: 1.0520 - val_accuracy: 0.6091\n",
      "Epoch 83/150\n",
      "224/225 [============================>.] - ETA: 0s - loss: 0.9542 - accuracy: 0.6413\n",
      "Epoch 00083: val_accuracy improved from 0.61800 to 0.62274, saving model to models/BaselineV2-weights-best_sgd.hdf5\n",
      "225/225 [==============================] - 7s 32ms/step - loss: 0.9542 - accuracy: 0.6413 - val_loss: 1.0035 - val_accuracy: 0.6227\n",
      "Epoch 84/150\n",
      "224/225 [============================>.] - ETA: 0s - loss: 0.9446 - accuracy: 0.6421\n",
      "Epoch 00084: val_accuracy did not improve from 0.62274\n",
      "225/225 [==============================] - 6s 29ms/step - loss: 0.9441 - accuracy: 0.6425 - val_loss: 1.0322 - val_accuracy: 0.6119\n",
      "Epoch 85/150\n",
      "224/225 [============================>.] - ETA: 0s - loss: 0.9397 - accuracy: 0.6434\n",
      "Epoch 00085: val_accuracy did not improve from 0.62274\n",
      "225/225 [==============================] - 6s 29ms/step - loss: 0.9403 - accuracy: 0.6431 - val_loss: 1.0260 - val_accuracy: 0.6180\n",
      "Epoch 86/150\n",
      "224/225 [============================>.] - ETA: 0s - loss: 0.9372 - accuracy: 0.6440\n",
      "Epoch 00086: val_accuracy did not improve from 0.62274\n",
      "225/225 [==============================] - 6s 29ms/step - loss: 0.9370 - accuracy: 0.6440 - val_loss: 1.0405 - val_accuracy: 0.6124\n",
      "Epoch 87/150\n",
      "224/225 [============================>.] - ETA: 0s - loss: 0.9410 - accuracy: 0.6447\n",
      "Epoch 00087: val_accuracy did not improve from 0.62274\n",
      "225/225 [==============================] - 7s 29ms/step - loss: 0.9406 - accuracy: 0.6447 - val_loss: 1.0238 - val_accuracy: 0.6121\n",
      "Epoch 88/150\n",
      "224/225 [============================>.] - ETA: 0s - loss: 0.9363 - accuracy: 0.6464\n",
      "Epoch 00088: val_accuracy did not improve from 0.62274\n",
      "225/225 [==============================] - 6s 29ms/step - loss: 0.9364 - accuracy: 0.6463 - val_loss: 1.0148 - val_accuracy: 0.6155\n",
      "Epoch 89/150\n",
      "224/225 [============================>.] - ETA: 0s - loss: 0.9349 - accuracy: 0.6437\n",
      "Epoch 00089: val_accuracy did not improve from 0.62274\n",
      "225/225 [==============================] - 6s 29ms/step - loss: 0.9351 - accuracy: 0.6437 - val_loss: 1.0072 - val_accuracy: 0.6205\n",
      "Epoch 90/150\n",
      "224/225 [============================>.] - ETA: 0s - loss: 0.9389 - accuracy: 0.6453\n",
      "Epoch 00090: ReduceLROnPlateau reducing learning rate to 0.02500000037252903.\n",
      "\n",
      "Epoch 00090: val_accuracy did not improve from 0.62274\n",
      "225/225 [==============================] - 6s 28ms/step - loss: 0.9389 - accuracy: 0.6452 - val_loss: 1.0082 - val_accuracy: 0.6227\n",
      "Epoch 91/150\n",
      "224/225 [============================>.] - ETA: 0s - loss: 0.9304 - accuracy: 0.6479\n",
      "Epoch 00091: val_accuracy improved from 0.62274 to 0.62552, saving model to models/BaselineV2-weights-best_sgd.hdf5\n",
      "225/225 [==============================] - 7s 32ms/step - loss: 0.9302 - accuracy: 0.6481 - val_loss: 1.0031 - val_accuracy: 0.6255\n",
      "Epoch 92/150\n",
      "224/225 [============================>.] - ETA: 0s - loss: 0.9259 - accuracy: 0.6510\n",
      "Epoch 00092: val_accuracy did not improve from 0.62552\n",
      "225/225 [==============================] - 6s 29ms/step - loss: 0.9262 - accuracy: 0.6508 - val_loss: 1.0018 - val_accuracy: 0.6199\n",
      "Epoch 93/150\n",
      "225/225 [==============================] - ETA: 0s - loss: 0.9148 - accuracy: 0.6549\n",
      "Epoch 00093: val_accuracy did not improve from 0.62552\n",
      "225/225 [==============================] - 6s 29ms/step - loss: 0.9148 - accuracy: 0.6549 - val_loss: 0.9991 - val_accuracy: 0.6255\n",
      "Epoch 94/150\n",
      "224/225 [============================>.] - ETA: 0s - loss: 0.9174 - accuracy: 0.6501\n",
      "Epoch 00094: val_accuracy did not improve from 0.62552\n",
      "225/225 [==============================] - 6s 29ms/step - loss: 0.9178 - accuracy: 0.6499 - val_loss: 0.9989 - val_accuracy: 0.6222\n",
      "Epoch 95/150\n",
      "224/225 [============================>.] - ETA: 0s - loss: 0.9183 - accuracy: 0.6560\n",
      "Epoch 00095: val_accuracy did not improve from 0.62552\n",
      "225/225 [==============================] - 6s 28ms/step - loss: 0.9185 - accuracy: 0.6560 - val_loss: 1.0023 - val_accuracy: 0.6244\n",
      "Epoch 96/150\n",
      "224/225 [============================>.] - ETA: 0s - loss: 0.9159 - accuracy: 0.6542\n",
      "Epoch 00096: val_accuracy did not improve from 0.62552\n",
      "225/225 [==============================] - 6s 28ms/step - loss: 0.9166 - accuracy: 0.6541 - val_loss: 1.0182 - val_accuracy: 0.6208\n",
      "Epoch 97/150\n",
      "224/225 [============================>.] - ETA: 0s - loss: 0.9175 - accuracy: 0.6516\n",
      "Epoch 00097: val_accuracy improved from 0.62552 to 0.62636, saving model to models/BaselineV2-weights-best_sgd.hdf5\n",
      "225/225 [==============================] - 7s 32ms/step - loss: 0.9172 - accuracy: 0.6517 - val_loss: 0.9993 - val_accuracy: 0.6264\n",
      "Epoch 98/150\n",
      "224/225 [============================>.] - ETA: 0s - loss: 0.9145 - accuracy: 0.6546\n",
      "Epoch 00098: val_accuracy did not improve from 0.62636\n",
      "225/225 [==============================] - 6s 29ms/step - loss: 0.9146 - accuracy: 0.6544 - val_loss: 0.9989 - val_accuracy: 0.6255\n",
      "Epoch 99/150\n",
      "224/225 [============================>.] - ETA: 0s - loss: 0.9150 - accuracy: 0.6543\n",
      "Epoch 00099: val_accuracy improved from 0.62636 to 0.62970, saving model to models/BaselineV2-weights-best_sgd.hdf5\n",
      "225/225 [==============================] - 7s 33ms/step - loss: 0.9147 - accuracy: 0.6543 - val_loss: 1.0025 - val_accuracy: 0.6297\n",
      "Epoch 100/150\n",
      "224/225 [============================>.] - ETA: 0s - loss: 0.9142 - accuracy: 0.6535\n",
      "Epoch 00100: val_accuracy did not improve from 0.62970\n",
      "225/225 [==============================] - 6s 29ms/step - loss: 0.9136 - accuracy: 0.6536 - val_loss: 0.9972 - val_accuracy: 0.6289\n",
      "Epoch 101/150\n",
      "224/225 [============================>.] - ETA: 0s - loss: 0.9149 - accuracy: 0.6545\n",
      "Epoch 00101: val_accuracy did not improve from 0.62970\n",
      "225/225 [==============================] - 6s 29ms/step - loss: 0.9143 - accuracy: 0.6548 - val_loss: 0.9989 - val_accuracy: 0.6230\n",
      "Epoch 102/150\n",
      "225/225 [==============================] - ETA: 0s - loss: 0.9107 - accuracy: 0.6524\n",
      "Epoch 00102: val_accuracy did not improve from 0.62970\n",
      "225/225 [==============================] - 6s 28ms/step - loss: 0.9107 - accuracy: 0.6524 - val_loss: 1.0005 - val_accuracy: 0.6216\n",
      "Epoch 103/150\n",
      "225/225 [==============================] - ETA: 0s - loss: 0.9116 - accuracy: 0.6554\n",
      "Epoch 00103: val_accuracy did not improve from 0.62970\n",
      "225/225 [==============================] - 6s 29ms/step - loss: 0.9116 - accuracy: 0.6554 - val_loss: 1.0069 - val_accuracy: 0.6280\n",
      "Epoch 104/150\n",
      "224/225 [============================>.] - ETA: 0s - loss: 0.9056 - accuracy: 0.6570\n",
      "Epoch 00104: val_accuracy did not improve from 0.62970\n",
      "225/225 [==============================] - 6s 29ms/step - loss: 0.9062 - accuracy: 0.6567 - val_loss: 1.0036 - val_accuracy: 0.6239\n",
      "Epoch 105/150\n",
      "224/225 [============================>.] - ETA: 0s - loss: 0.9059 - accuracy: 0.6573\n",
      "Epoch 00105: val_accuracy improved from 0.62970 to 0.63332, saving model to models/BaselineV2-weights-best_sgd.hdf5\n",
      "225/225 [==============================] - 7s 33ms/step - loss: 0.9058 - accuracy: 0.6573 - val_loss: 0.9996 - val_accuracy: 0.6333\n",
      "Epoch 106/150\n",
      "224/225 [============================>.] - ETA: 0s - loss: 0.9077 - accuracy: 0.6583\n",
      "Epoch 00106: val_accuracy did not improve from 0.63332\n",
      "225/225 [==============================] - 6s 28ms/step - loss: 0.9077 - accuracy: 0.6583 - val_loss: 0.9962 - val_accuracy: 0.6280\n",
      "Epoch 107/150\n",
      "225/225 [==============================] - ETA: 0s - loss: 0.9069 - accuracy: 0.6585\n",
      "Epoch 00107: val_accuracy did not improve from 0.63332\n",
      "225/225 [==============================] - 6s 29ms/step - loss: 0.9069 - accuracy: 0.6585 - val_loss: 0.9963 - val_accuracy: 0.6286\n",
      "Epoch 108/150\n",
      "224/225 [============================>.] - ETA: 0s - loss: 0.8996 - accuracy: 0.6585\n",
      "Epoch 00108: val_accuracy did not improve from 0.63332\n",
      "225/225 [==============================] - 6s 29ms/step - loss: 0.8998 - accuracy: 0.6585 - val_loss: 0.9965 - val_accuracy: 0.6269\n",
      "Epoch 109/150\n",
      "224/225 [============================>.] - ETA: 0s - loss: 0.9111 - accuracy: 0.6525\n",
      "Epoch 00109: val_accuracy did not improve from 0.63332\n",
      "225/225 [==============================] - 6s 29ms/step - loss: 0.9112 - accuracy: 0.6525 - val_loss: 0.9977 - val_accuracy: 0.6283\n",
      "Epoch 110/150\n",
      "224/225 [============================>.] - ETA: 0s - loss: 0.9034 - accuracy: 0.6580\n",
      "Epoch 00110: val_accuracy did not improve from 0.63332\n",
      "225/225 [==============================] - 6s 29ms/step - loss: 0.9033 - accuracy: 0.6581 - val_loss: 0.9961 - val_accuracy: 0.6264\n",
      "Epoch 111/150\n",
      "225/225 [==============================] - ETA: 0s - loss: 0.9046 - accuracy: 0.6566\n",
      "Epoch 00111: val_accuracy did not improve from 0.63332\n",
      "225/225 [==============================] - 6s 28ms/step - loss: 0.9046 - accuracy: 0.6566 - val_loss: 1.0037 - val_accuracy: 0.6233\n",
      "Epoch 112/150\n",
      "225/225 [==============================] - ETA: 0s - loss: 0.9028 - accuracy: 0.6592\n",
      "Epoch 00112: ReduceLROnPlateau reducing learning rate to 0.012500000186264515.\n",
      "\n",
      "Epoch 00112: val_accuracy did not improve from 0.63332\n",
      "225/225 [==============================] - 6s 29ms/step - loss: 0.9028 - accuracy: 0.6592 - val_loss: 0.9910 - val_accuracy: 0.6308\n",
      "Epoch 113/150\n",
      "224/225 [============================>.] - ETA: 0s - loss: 0.8940 - accuracy: 0.6632\n",
      "Epoch 00113: val_accuracy did not improve from 0.63332\n",
      "225/225 [==============================] - 6s 29ms/step - loss: 0.8945 - accuracy: 0.6631 - val_loss: 0.9939 - val_accuracy: 0.6319\n",
      "Epoch 114/150\n",
      "224/225 [============================>.] - ETA: 0s - loss: 0.8922 - accuracy: 0.6624\n",
      "Epoch 00114: val_accuracy did not improve from 0.63332\n",
      "225/225 [==============================] - 6s 29ms/step - loss: 0.8928 - accuracy: 0.6622 - val_loss: 0.9918 - val_accuracy: 0.6305\n",
      "Epoch 115/150\n",
      "224/225 [============================>.] - ETA: 0s - loss: 0.8917 - accuracy: 0.6623\n",
      "Epoch 00115: val_accuracy did not improve from 0.63332\n",
      "225/225 [==============================] - 6s 28ms/step - loss: 0.8915 - accuracy: 0.6626 - val_loss: 0.9953 - val_accuracy: 0.6297\n",
      "Epoch 116/150\n",
      "224/225 [============================>.] - ETA: 0s - loss: 0.8931 - accuracy: 0.6605\n",
      "Epoch 00116: val_accuracy did not improve from 0.63332\n",
      "225/225 [==============================] - 6s 29ms/step - loss: 0.8933 - accuracy: 0.6602 - val_loss: 0.9940 - val_accuracy: 0.6305\n",
      "Epoch 117/150\n",
      "224/225 [============================>.] - ETA: 0s - loss: 0.8907 - accuracy: 0.6632\n",
      "Epoch 00117: val_accuracy did not improve from 0.63332\n",
      "225/225 [==============================] - 6s 28ms/step - loss: 0.8915 - accuracy: 0.6626 - val_loss: 0.9927 - val_accuracy: 0.6317\n",
      "Epoch 118/150\n",
      "224/225 [============================>.] - ETA: 0s - loss: 0.8951 - accuracy: 0.6606\n",
      "Epoch 00118: val_accuracy improved from 0.63332 to 0.63416, saving model to models/BaselineV2-weights-best_sgd.hdf5\n",
      "225/225 [==============================] - 7s 32ms/step - loss: 0.8949 - accuracy: 0.6606 - val_loss: 0.9918 - val_accuracy: 0.6342\n",
      "Epoch 119/150\n",
      "224/225 [============================>.] - ETA: 0s - loss: 0.8905 - accuracy: 0.6625\n",
      "Epoch 00119: val_accuracy did not improve from 0.63416\n",
      "225/225 [==============================] - 6s 29ms/step - loss: 0.8906 - accuracy: 0.6626 - val_loss: 0.9962 - val_accuracy: 0.6289\n",
      "Epoch 120/150\n",
      "225/225 [==============================] - ETA: 0s - loss: 0.8932 - accuracy: 0.6638\n",
      "Epoch 00120: val_accuracy did not improve from 0.63416\n",
      "225/225 [==============================] - 6s 29ms/step - loss: 0.8932 - accuracy: 0.6638 - val_loss: 0.9954 - val_accuracy: 0.6305\n",
      "Epoch 121/150\n",
      "224/225 [============================>.] - ETA: 0s - loss: 0.8905 - accuracy: 0.6617\n",
      "Epoch 00121: val_accuracy did not improve from 0.63416\n",
      "225/225 [==============================] - 6s 28ms/step - loss: 0.8907 - accuracy: 0.6614 - val_loss: 1.0002 - val_accuracy: 0.6300\n",
      "Epoch 122/150\n",
      "224/225 [============================>.] - ETA: 0s - loss: 0.8929 - accuracy: 0.6638\n",
      "Epoch 00122: val_accuracy did not improve from 0.63416\n",
      "225/225 [==============================] - 6s 28ms/step - loss: 0.8927 - accuracy: 0.6639 - val_loss: 0.9921 - val_accuracy: 0.6311\n",
      "Epoch 123/150\n",
      "224/225 [============================>.] - ETA: 0s - loss: 0.8936 - accuracy: 0.6643\n",
      "Epoch 00123: val_accuracy did not improve from 0.63416\n",
      "225/225 [==============================] - 6s 28ms/step - loss: 0.8935 - accuracy: 0.6642 - val_loss: 0.9940 - val_accuracy: 0.6317\n",
      "Epoch 124/150\n",
      "224/225 [============================>.] - ETA: 0s - loss: 0.8902 - accuracy: 0.6653\n",
      "Epoch 00124: val_accuracy did not improve from 0.63416\n",
      "225/225 [==============================] - 6s 28ms/step - loss: 0.8902 - accuracy: 0.6654 - val_loss: 0.9990 - val_accuracy: 0.6291\n",
      "Epoch 125/150\n",
      "224/225 [============================>.] - ETA: 0s - loss: 0.8905 - accuracy: 0.6637\n",
      "Epoch 00125: ReduceLROnPlateau reducing learning rate to 0.0062500000931322575.\n",
      "\n",
      "Epoch 00125: val_accuracy did not improve from 0.63416\n",
      "225/225 [==============================] - 6s 29ms/step - loss: 0.8910 - accuracy: 0.6633 - val_loss: 0.9984 - val_accuracy: 0.6308\n",
      "Epoch 126/150\n",
      "224/225 [============================>.] - ETA: 0s - loss: 0.8877 - accuracy: 0.6639\n",
      "Epoch 00126: val_accuracy did not improve from 0.63416\n",
      "225/225 [==============================] - 6s 29ms/step - loss: 0.8874 - accuracy: 0.6640 - val_loss: 0.9914 - val_accuracy: 0.6319\n",
      "Epoch 127/150\n",
      "224/225 [============================>.] - ETA: 0s - loss: 0.8889 - accuracy: 0.6620\n",
      "Epoch 00127: val_accuracy did not improve from 0.63416\n",
      "225/225 [==============================] - 6s 28ms/step - loss: 0.8890 - accuracy: 0.6622 - val_loss: 0.9918 - val_accuracy: 0.6305\n",
      "Epoch 128/150\n",
      "224/225 [============================>.] - ETA: 0s - loss: 0.8836 - accuracy: 0.6660\n",
      "Epoch 00128: val_accuracy did not improve from 0.63416\n",
      "225/225 [==============================] - 6s 29ms/step - loss: 0.8837 - accuracy: 0.6658 - val_loss: 0.9965 - val_accuracy: 0.6328\n",
      "Epoch 129/150\n",
      "224/225 [============================>.] - ETA: 0s - loss: 0.8905 - accuracy: 0.6636\n",
      "Epoch 00129: val_accuracy did not improve from 0.63416\n",
      "225/225 [==============================] - 6s 28ms/step - loss: 0.8907 - accuracy: 0.6636 - val_loss: 0.9945 - val_accuracy: 0.6305\n",
      "Epoch 130/150\n",
      "224/225 [============================>.] - ETA: 0s - loss: 0.8925 - accuracy: 0.6659\n",
      "Epoch 00130: val_accuracy did not improve from 0.63416\n",
      "225/225 [==============================] - 6s 28ms/step - loss: 0.8925 - accuracy: 0.6659 - val_loss: 0.9935 - val_accuracy: 0.6342\n",
      "Epoch 131/150\n",
      "225/225 [==============================] - ETA: 0s - loss: 0.8891 - accuracy: 0.6653\n",
      "Epoch 00131: val_accuracy did not improve from 0.63416\n",
      "225/225 [==============================] - 6s 29ms/step - loss: 0.8891 - accuracy: 0.6653 - val_loss: 0.9937 - val_accuracy: 0.6339\n",
      "Epoch 132/150\n",
      "225/225 [==============================] - ETA: 0s - loss: 0.8891 - accuracy: 0.6634\n",
      "Epoch 00132: ReduceLROnPlateau reducing learning rate to 0.0031250000465661287.\n",
      "\n",
      "Epoch 00132: val_accuracy did not improve from 0.63416\n",
      "225/225 [==============================] - 6s 29ms/step - loss: 0.8891 - accuracy: 0.6634 - val_loss: 0.9921 - val_accuracy: 0.6325\n",
      "Epoch 133/150\n",
      "224/225 [============================>.] - ETA: 0s - loss: 0.8815 - accuracy: 0.6671\n",
      "Epoch 00133: val_accuracy did not improve from 0.63416\n",
      "225/225 [==============================] - 6s 29ms/step - loss: 0.8816 - accuracy: 0.6671 - val_loss: 0.9923 - val_accuracy: 0.6325\n",
      "Epoch 134/150\n",
      "224/225 [============================>.] - ETA: 0s - loss: 0.8782 - accuracy: 0.6700\n",
      "Epoch 00134: val_accuracy did not improve from 0.63416\n",
      "225/225 [==============================] - 7s 29ms/step - loss: 0.8781 - accuracy: 0.6700 - val_loss: 0.9913 - val_accuracy: 0.6339\n",
      "Epoch 135/150\n",
      "224/225 [============================>.] - ETA: 0s - loss: 0.8827 - accuracy: 0.6657\n",
      "Epoch 00135: val_accuracy improved from 0.63416 to 0.63500, saving model to models/BaselineV2-weights-best_sgd.hdf5\n",
      "225/225 [==============================] - 7s 32ms/step - loss: 0.8820 - accuracy: 0.6659 - val_loss: 0.9925 - val_accuracy: 0.6350\n",
      "Epoch 136/150\n",
      "225/225 [==============================] - ETA: 0s - loss: 0.8843 - accuracy: 0.6650\n",
      "Epoch 00136: val_accuracy did not improve from 0.63500\n",
      "225/225 [==============================] - 6s 29ms/step - loss: 0.8843 - accuracy: 0.6650 - val_loss: 0.9926 - val_accuracy: 0.6322\n",
      "Epoch 137/150\n",
      "224/225 [============================>.] - ETA: 0s - loss: 0.8861 - accuracy: 0.6672\n",
      "Epoch 00137: val_accuracy did not improve from 0.63500\n",
      "225/225 [==============================] - 6s 29ms/step - loss: 0.8863 - accuracy: 0.6671 - val_loss: 0.9926 - val_accuracy: 0.6344\n",
      "Epoch 138/150\n",
      "224/225 [============================>.] - ETA: 0s - loss: 0.8812 - accuracy: 0.6674\n",
      "Epoch 00138: val_accuracy did not improve from 0.63500\n",
      "225/225 [==============================] - 6s 29ms/step - loss: 0.8809 - accuracy: 0.6677 - val_loss: 0.9920 - val_accuracy: 0.6325\n",
      "Epoch 139/150\n",
      "224/225 [============================>.] - ETA: 0s - loss: 0.8855 - accuracy: 0.6653\n",
      "Epoch 00139: val_accuracy did not improve from 0.63500\n",
      "225/225 [==============================] - 6s 28ms/step - loss: 0.8853 - accuracy: 0.6654 - val_loss: 0.9929 - val_accuracy: 0.6344\n",
      "Epoch 140/150\n",
      "224/225 [============================>.] - ETA: 0s - loss: 0.8824 - accuracy: 0.6679\n",
      "Epoch 00140: val_accuracy did not improve from 0.63500\n",
      "225/225 [==============================] - 6s 29ms/step - loss: 0.8823 - accuracy: 0.6679 - val_loss: 0.9935 - val_accuracy: 0.6333\n",
      "Epoch 141/150\n",
      "225/225 [==============================] - ETA: 0s - loss: 0.8808 - accuracy: 0.6688\n",
      "Epoch 00141: val_accuracy did not improve from 0.63500\n",
      "225/225 [==============================] - 6s 28ms/step - loss: 0.8808 - accuracy: 0.6688 - val_loss: 0.9926 - val_accuracy: 0.6342\n",
      "Epoch 142/150\n",
      "224/225 [============================>.] - ETA: 0s - loss: 0.8853 - accuracy: 0.6663\n",
      "Epoch 00142: ReduceLROnPlateau reducing learning rate to 0.0015625000232830644.\n",
      "\n",
      "Epoch 00142: val_accuracy did not improve from 0.63500\n",
      "225/225 [==============================] - 6s 29ms/step - loss: 0.8860 - accuracy: 0.6663 - val_loss: 0.9934 - val_accuracy: 0.6347\n",
      "Epoch 143/150\n",
      "224/225 [============================>.] - ETA: 0s - loss: 0.8806 - accuracy: 0.6653\n",
      "Epoch 00143: val_accuracy did not improve from 0.63500\n",
      "225/225 [==============================] - 6s 29ms/step - loss: 0.8800 - accuracy: 0.6655 - val_loss: 0.9923 - val_accuracy: 0.6347\n",
      "Epoch 144/150\n",
      "225/225 [==============================] - ETA: 0s - loss: 0.8801 - accuracy: 0.6641\n",
      "Epoch 00144: val_accuracy did not improve from 0.63500\n",
      "225/225 [==============================] - 6s 29ms/step - loss: 0.8801 - accuracy: 0.6641 - val_loss: 0.9925 - val_accuracy: 0.6339\n",
      "Epoch 145/150\n",
      "225/225 [==============================] - ETA: 0s - loss: 0.8806 - accuracy: 0.6687\n",
      "Epoch 00145: val_accuracy did not improve from 0.63500\n",
      "225/225 [==============================] - 6s 28ms/step - loss: 0.8806 - accuracy: 0.6687 - val_loss: 0.9925 - val_accuracy: 0.6344\n",
      "Epoch 146/150\n",
      "224/225 [============================>.] - ETA: 0s - loss: 0.8820 - accuracy: 0.6692\n",
      "Epoch 00146: val_accuracy did not improve from 0.63500\n",
      "225/225 [==============================] - 6s 28ms/step - loss: 0.8819 - accuracy: 0.6692 - val_loss: 0.9922 - val_accuracy: 0.6322\n",
      "Epoch 147/150\n",
      "224/225 [============================>.] - ETA: 0s - loss: 0.8834 - accuracy: 0.6668\n",
      "Epoch 00147: val_accuracy did not improve from 0.63500\n",
      "225/225 [==============================] - 6s 28ms/step - loss: 0.8829 - accuracy: 0.6668 - val_loss: 0.9928 - val_accuracy: 0.6347\n",
      "Epoch 148/150\n",
      "224/225 [============================>.] - ETA: 0s - loss: 0.8816 - accuracy: 0.6687\n",
      "Epoch 00148: val_accuracy did not improve from 0.63500\n",
      "225/225 [==============================] - 6s 28ms/step - loss: 0.8812 - accuracy: 0.6693 - val_loss: 0.9926 - val_accuracy: 0.6336\n",
      "Epoch 149/150\n",
      "224/225 [============================>.] - ETA: 0s - loss: 0.8811 - accuracy: 0.6675\n",
      "Epoch 00149: ReduceLROnPlateau reducing learning rate to 0.0007812500116415322.\n",
      "\n",
      "Epoch 00149: val_accuracy did not improve from 0.63500\n",
      "225/225 [==============================] - 6s 28ms/step - loss: 0.8805 - accuracy: 0.6679 - val_loss: 0.9933 - val_accuracy: 0.6333\n",
      "Epoch 150/150\n",
      "224/225 [============================>.] - ETA: 0s - loss: 0.8798 - accuracy: 0.6683\n",
      "Epoch 00150: val_accuracy did not improve from 0.63500\n",
      "225/225 [==============================] - 6s 29ms/step - loss: 0.8805 - accuracy: 0.6682 - val_loss: 0.9929 - val_accuracy: 0.6342\n"
     ]
    }
   ],
   "source": [
    "history_base2 = baseModel2.fit(\n",
    "    datagen.flow(X_train, y_train, batch_size=batch_size),\n",
    "    steps_per_epoch=int(np.ceil(X_train.shape[0] / float(batch_size))),\n",
    "    epochs = epochs,\n",
    "    callbacks = callbacks_list,\n",
    "    #class_weight = class_weight, \n",
    "    validation_data=(X_val, y_val))"
   ]
  },
  {
   "cell_type": "code",
   "execution_count": null,
   "metadata": {
    "colab": {
     "base_uri": "https://localhost:8080/",
     "height": 51
    },
    "id": "71QaGpyn3C5f",
    "outputId": "85ad86f0-af41-4212-aca8-a25f744fcd8d"
   },
   "outputs": [
    {
     "name": "stdout",
     "output_type": "stream",
     "text": [
      "113/113 [==============================] - 0s 4ms/step - loss: 0.9557 - accuracy: 0.6528\n"
     ]
    },
    {
     "data": {
      "text/plain": [
       "[0.9556638598442078, 0.6528280973434448]"
      ]
     },
     "execution_count": 271,
     "metadata": {
      "tags": []
     },
     "output_type": "execute_result"
    }
   ],
   "source": [
    "baseModel2.evaluate(X_test,y_test)"
   ]
  },
  {
   "cell_type": "code",
   "execution_count": null,
   "metadata": {
    "colab": {
     "base_uri": "https://localhost:8080/",
     "height": 68
    },
    "id": "vHBe0Tm0aS0f",
    "outputId": "675d551b-d5ed-4fb1-8353-f5c3b0deace4"
   },
   "outputs": [
    {
     "name": "stdout",
     "output_type": "stream",
     "text": [
      "WARNING:tensorflow:Error in loading the saved optimizer state. As a result, your model is starting with a freshly initialized optimizer.\n",
      "3589/3589 [==============================] - 12s 3ms/step - loss: 0.9564 - accuracy: 0.6545\n"
     ]
    },
    {
     "data": {
      "text/plain": [
       "[0.9564176201820374, 0.654499888420105]"
      ]
     },
     "execution_count": 53,
     "metadata": {
      "tags": []
     },
     "output_type": "execute_result"
    }
   ],
   "source": [
    "from tensorflow.keras.models import load_model\n",
    "\n",
    "baseline2_best = load_model('models/BaselineV2-weights-best_sgd.hdf5')\n",
    "\n",
    "#baseline2_best.evaluate(X_test,y_test, batch_size=1)"
   ]
  },
  {
   "cell_type": "code",
   "execution_count": null,
   "metadata": {
    "colab": {
     "base_uri": "https://localhost:8080/",
     "height": 573
    },
    "id": "PW9vPILv2xCM",
    "outputId": "cd902cde-918f-4c91-c48d-053244cbc796"
   },
   "outputs": [
    {
     "data": {
      "image/png": "[encoded data removed]",
      "text/plain": [
       "<Figure size 432x288 with 1 Axes>"
      ]
     },
     "metadata": {
      "needs_background": "light",
      "tags": []
     },
     "output_type": "display_data"
    },
    {
     "data": {
      "image/png": "[encoded data removed]",
      "text/plain": [
       "<Figure size 432x288 with 1 Axes>"
      ]
     },
     "metadata": {
      "needs_background": "light",
      "tags": []
     },
     "output_type": "display_data"
    }
   ],
   "source": [
    "plt.plot(history_base2.history['accuracy'])\n",
    "plt.plot(history_base2.history['val_accuracy'])\n",
    "plt.title('model accuracy')\n",
    "plt.ylabel('accuracy')\n",
    "plt.xlabel('epoch')\n",
    "plt.legend(['train', 'dev'], loc='upper left')\n",
    "plt.show()\n",
    "# summarize history for loss\n",
    "plt.plot(history_base2.history['loss'])\n",
    "plt.plot(history_base2.history['val_loss'])\n",
    "plt.title('model loss')\n",
    "plt.ylabel('loss')\n",
    "plt.xlabel('epoch')\n",
    "plt.legend(['train', 'dev'], loc='upper left')\n",
    "plt.show()"
   ]
  },
  {
   "cell_type": "code",
   "execution_count": null,
   "metadata": {
    "colab": {
     "base_uri": "https://localhost:8080/",
     "height": 399
    },
    "id": "QV3cMXxuWm4N",
    "outputId": "60b032a4-e4d0-45d1-db38-7b78528e5f8d"
   },
   "outputs": [
    {
     "data": {
      "image/png": "[encoded data removed]",
      "text/plain": [
       "<Figure size 360x360 with 2 Axes>"
      ]
     },
     "metadata": {
      "needs_background": "light",
      "tags": []
     },
     "output_type": "display_data"
    }
   ],
   "source": [
    "y_pred = baseModel2.predict(X_test).argmax(axis=1)\n",
    "y_true = decode_one_hot(y_test)\n",
    "\n",
    "cmat_df_test=pd.DataFrame(\n",
    "  confusion_matrix(y_true, y_pred, normalize='true').round(2),\n",
    "  index=emotions.values(), \n",
    "  columns=emotions.values()\n",
    "  )\n",
    "\n",
    "plt.figure(figsize=(5,5))\n",
    "heatmap(cmat_df_test,annot=True,cmap=plt.cm.Blues)\n",
    "plt.tight_layout()\n",
    "plt.title('Confusion Matrix on Private Test Set')\n",
    "plt.ylabel('True label')\n",
    "plt.xlabel('Predicted label')\n",
    "plt.show()"
   ]
  },
  {
   "cell_type": "code",
   "execution_count": null,
   "metadata": {
    "id": "ZvKPTWswLz4F"
   },
   "outputs": [],
   "source": [
    "cp_filepath='models/BaselineM5-weights-best.hdf5'\n",
    "\n",
    "rlrop = keras.callbacks.ReduceLROnPlateau(monitor='val_accuracy',mode='max',factor=0.5, patience=6, min_lr=0.00001, verbose=1)\n",
    "checkpoint = keras.callbacks.ModelCheckpoint(cp_filepath, monitor='val_accuracy', verbose=1, save_best_only=True, mode='max')\n",
    "callbacks_list = [rlrop,checkpoint]"
   ]
  },
  {
   "cell_type": "code",
   "execution_count": null,
   "metadata": {
    "id": "XpLsRfwnL42G"
   },
   "outputs": [],
   "source": [
    "def baselineModel3Mask():\n",
    "    model = models.Sequential()\n",
    "    model.add(layers.Conv2D(32, (5, 5), activation='relu', padding='same', input_shape=input_shape))\n",
    "    model.add(layers.BatchNormalization())\n",
    "    model.add(layers.Conv2D(32, (5, 5), activation='relu', padding='same'))\n",
    "    model.add(layers.BatchNormalization())\n",
    "    model.add(layers.MaxPooling2D((2, 2)))\n",
    "    model.add(layers.Dropout(0.2))\n",
    "\n",
    "    model.add(layers.Conv2D(64, (5, 5), activation='relu', padding='same'))\n",
    "    model.add(layers.BatchNormalization())\n",
    "    model.add(layers.Conv2D(64, (5, 5), activation='relu', padding='same'))\n",
    "    model.add(layers.BatchNormalization())\n",
    "    model.add(layers.MaxPooling2D((2, 2)))\n",
    "    model.add(layers.Dropout(0.3))\n",
    "\n",
    "    model.add(layers.Conv2D(32, (5, 5), activation='relu', padding='same'))\n",
    "    model.add(layers.BatchNormalization())\n",
    "    model.add(layers.Conv2D(32, (5, 5), activation='relu', padding='same'))\n",
    "    model.add(layers.BatchNormalization())\n",
    "    model.add(layers.MaxPooling2D((2, 2)))\n",
    "    model.add(layers.Dropout(0.4))\n",
    "\n",
    "    model.add(layers.Flatten())\n",
    "    model.add(layers.Dense(512, activation='relu'))\n",
    "    model.add(layers.BatchNormalization())\n",
    "    model.add(layers.Dense(256, activation='relu'))\n",
    "    model.add(layers.BatchNormalization())\n",
    "    model.add(layers.Dropout(0.5))\n",
    "    model.add(layers.Dense(num_classes,activation='softmax'))\n",
    "    #model.add(layers.Dense(num_classes,activation='softmax'))\n",
    "\n",
    "    return model"
   ]
  },
  {
   "cell_type": "code",
   "execution_count": null,
   "metadata": {
    "colab": {
     "base_uri": "https://localhost:8080/",
     "height": 1000
    },
    "id": "RMdnU4wzMK9R",
    "outputId": "0227249c-27bd-4548-8c09-e8dc2d9cfc8c"
   },
   "outputs": [
    {
     "name": "stdout",
     "output_type": "stream",
     "text": [
      "Model: \"sequential_2\"\n",
      "_________________________________________________________________\n",
      "Layer (type)                 Output Shape              Param #   \n",
      "=================================================================\n",
      "conv2d_12 (Conv2D)           (None, 48, 48, 32)        832       \n",
      "_________________________________________________________________\n",
      "batch_normalization_16 (Batc (None, 48, 48, 32)        128       \n",
      "_________________________________________________________________\n",
      "conv2d_13 (Conv2D)           (None, 48, 48, 32)        25632     \n",
      "_________________________________________________________________\n",
      "batch_normalization_17 (Batc (None, 48, 48, 32)        128       \n",
      "_________________________________________________________________\n",
      "max_pooling2d_6 (MaxPooling2 (None, 24, 24, 32)        0         \n",
      "_________________________________________________________________\n",
      "dropout_8 (Dropout)          (None, 24, 24, 32)        0         \n",
      "_________________________________________________________________\n",
      "conv2d_14 (Conv2D)           (None, 24, 24, 64)        51264     \n",
      "_________________________________________________________________\n",
      "batch_normalization_18 (Batc (None, 24, 24, 64)        256       \n",
      "_________________________________________________________________\n",
      "conv2d_15 (Conv2D)           (None, 24, 24, 64)        102464    \n",
      "_________________________________________________________________\n",
      "batch_normalization_19 (Batc (None, 24, 24, 64)        256       \n",
      "_________________________________________________________________\n",
      "max_pooling2d_7 (MaxPooling2 (None, 12, 12, 64)        0         \n",
      "_________________________________________________________________\n",
      "dropout_9 (Dropout)          (None, 12, 12, 64)        0         \n",
      "_________________________________________________________________\n",
      "conv2d_16 (Conv2D)           (None, 12, 12, 32)        51232     \n",
      "_________________________________________________________________\n",
      "batch_normalization_20 (Batc (None, 12, 12, 32)        128       \n",
      "_________________________________________________________________\n",
      "conv2d_17 (Conv2D)           (None, 12, 12, 32)        25632     \n",
      "_________________________________________________________________\n",
      "batch_normalization_21 (Batc (None, 12, 12, 32)        128       \n",
      "_________________________________________________________________\n",
      "max_pooling2d_8 (MaxPooling2 (None, 6, 6, 32)          0         \n",
      "_________________________________________________________________\n",
      "dropout_10 (Dropout)         (None, 6, 6, 32)          0         \n",
      "_________________________________________________________________\n",
      "flatten_2 (Flatten)          (None, 1152)              0         \n",
      "_________________________________________________________________\n",
      "dense_6 (Dense)              (None, 512)               590336    \n",
      "_________________________________________________________________\n",
      "batch_normalization_22 (Batc (None, 512)               2048      \n",
      "_________________________________________________________________\n",
      "dense_7 (Dense)              (None, 256)               131328    \n",
      "_________________________________________________________________\n",
      "batch_normalization_23 (Batc (None, 256)               1024      \n",
      "_________________________________________________________________\n",
      "dropout_11 (Dropout)         (None, 256)               0         \n",
      "_________________________________________________________________\n",
      "dense_8 (Dense)              (None, 7)                 1799      \n",
      "=================================================================\n",
      "Total params: 984,615\n",
      "Trainable params: 982,567\n",
      "Non-trainable params: 2,048\n",
      "_________________________________________________________________\n"
     ]
    }
   ],
   "source": [
    "baselineM5 = baselineModel3Mask()\n",
    "baselineM5.summary()"
   ]
  },
  {
   "cell_type": "code",
   "execution_count": null,
   "metadata": {
    "id": "FvYfsm7rMUjT"
   },
   "outputs": [],
   "source": [
    "baselineM5.compile(loss=keras.losses.categorical_crossentropy,\n",
    "              optimizer=adam,\n",
    "              metrics=['accuracy'])"
   ]
  },
  {
   "cell_type": "code",
   "execution_count": null,
   "metadata": {
    "colab": {
     "base_uri": "https://localhost:8080/",
     "height": 1000
    },
    "id": "0araS1TvL_aA",
    "outputId": "0ada5a8f-fe0a-405a-8abb-6942cbc30957"
   },
   "outputs": [
    {
     "name": "stdout",
     "output_type": "stream",
     "text": [
      "Epoch 1/100\n",
      "225/225 [==============================] - ETA: 0s - loss: 2.0024 - accuracy: 0.2263\n",
      "Epoch 00001: val_accuracy did not improve from 0.56980\n",
      "225/225 [==============================] - 18s 82ms/step - loss: 2.0024 - accuracy: 0.2263 - val_loss: 1.7814 - val_accuracy: 0.2614\n",
      "Epoch 2/100\n",
      "225/225 [==============================] - ETA: 0s - loss: 1.8135 - accuracy: 0.2759\n",
      "Epoch 00002: val_accuracy did not improve from 0.56980\n",
      "225/225 [==============================] - 18s 80ms/step - loss: 1.8135 - accuracy: 0.2759 - val_loss: 1.7273 - val_accuracy: 0.3118\n",
      "Epoch 3/100\n",
      "225/225 [==============================] - ETA: 0s - loss: 1.6882 - accuracy: 0.3344\n",
      "Epoch 00003: val_accuracy did not improve from 0.56980\n",
      "225/225 [==============================] - 18s 80ms/step - loss: 1.6882 - accuracy: 0.3344 - val_loss: 1.5222 - val_accuracy: 0.4043\n",
      "Epoch 4/100\n",
      "225/225 [==============================] - ETA: 0s - loss: 1.5554 - accuracy: 0.3952\n",
      "Epoch 00004: val_accuracy did not improve from 0.56980\n",
      "225/225 [==============================] - 18s 82ms/step - loss: 1.5554 - accuracy: 0.3952 - val_loss: 1.5026 - val_accuracy: 0.3998\n",
      "Epoch 5/100\n",
      "225/225 [==============================] - ETA: 0s - loss: 1.4499 - accuracy: 0.4405\n",
      "Epoch 00005: val_accuracy did not improve from 0.56980\n",
      "225/225 [==============================] - 18s 79ms/step - loss: 1.4499 - accuracy: 0.4405 - val_loss: 1.5615 - val_accuracy: 0.4241\n",
      "Epoch 6/100\n",
      "225/225 [==============================] - ETA: 0s - loss: 1.3556 - accuracy: 0.4769\n",
      "Epoch 00006: val_accuracy did not improve from 0.56980\n",
      "225/225 [==============================] - 18s 79ms/step - loss: 1.3556 - accuracy: 0.4769 - val_loss: 1.4706 - val_accuracy: 0.4380\n",
      "Epoch 7/100\n",
      "225/225 [==============================] - ETA: 0s - loss: 1.2999 - accuracy: 0.5044\n",
      "Epoch 00007: val_accuracy did not improve from 0.56980\n",
      "225/225 [==============================] - 18s 82ms/step - loss: 1.2999 - accuracy: 0.5044 - val_loss: 1.3038 - val_accuracy: 0.4971\n",
      "Epoch 8/100\n",
      "225/225 [==============================] - ETA: 0s - loss: 1.2545 - accuracy: 0.5234\n",
      "Epoch 00008: val_accuracy did not improve from 0.56980\n",
      "225/225 [==============================] - 18s 82ms/step - loss: 1.2545 - accuracy: 0.5234 - val_loss: 1.3293 - val_accuracy: 0.5104\n",
      "Epoch 9/100\n",
      "225/225 [==============================] - ETA: 0s - loss: 1.2252 - accuracy: 0.5365\n",
      "Epoch 00009: val_accuracy did not improve from 0.56980\n",
      "225/225 [==============================] - 19s 83ms/step - loss: 1.2252 - accuracy: 0.5365 - val_loss: 1.1656 - val_accuracy: 0.5564\n",
      "Epoch 10/100\n",
      "225/225 [==============================] - ETA: 0s - loss: 1.1979 - accuracy: 0.5456\n",
      "Epoch 00010: val_accuracy did not improve from 0.56980\n",
      "225/225 [==============================] - 19s 83ms/step - loss: 1.1979 - accuracy: 0.5456 - val_loss: 1.2299 - val_accuracy: 0.5325\n",
      "Epoch 11/100\n",
      "225/225 [==============================] - ETA: 0s - loss: 1.1711 - accuracy: 0.5606\n",
      "Epoch 00011: val_accuracy did not improve from 0.56980\n",
      "225/225 [==============================] - 19s 84ms/step - loss: 1.1711 - accuracy: 0.5606 - val_loss: 1.1778 - val_accuracy: 0.5520\n",
      "Epoch 12/100\n",
      "225/225 [==============================] - ETA: 0s - loss: 1.1492 - accuracy: 0.5668\n",
      "Epoch 00012: val_accuracy did not improve from 0.56980\n",
      "225/225 [==============================] - 19s 83ms/step - loss: 1.1492 - accuracy: 0.5668 - val_loss: 1.2289 - val_accuracy: 0.5383\n",
      "Epoch 13/100\n",
      "225/225 [==============================] - ETA: 0s - loss: 1.1390 - accuracy: 0.5706\n",
      "Epoch 00013: val_accuracy improved from 0.56980 to 0.57175, saving model to models/BaselineM5-weights-best.hdf5\n",
      "225/225 [==============================] - 20s 87ms/step - loss: 1.1390 - accuracy: 0.5706 - val_loss: 1.1120 - val_accuracy: 0.5717\n",
      "Epoch 14/100\n",
      "225/225 [==============================] - ETA: 0s - loss: 1.1245 - accuracy: 0.5775\n",
      "Epoch 00014: val_accuracy improved from 0.57175 to 0.59320, saving model to models/BaselineM5-weights-best.hdf5\n",
      "225/225 [==============================] - 19s 87ms/step - loss: 1.1245 - accuracy: 0.5775 - val_loss: 1.0932 - val_accuracy: 0.5932\n",
      "Epoch 15/100\n",
      "225/225 [==============================] - ETA: 0s - loss: 1.1160 - accuracy: 0.5831\n",
      "Epoch 00015: val_accuracy did not improve from 0.59320\n",
      "225/225 [==============================] - 19s 84ms/step - loss: 1.1160 - accuracy: 0.5831 - val_loss: 1.1132 - val_accuracy: 0.5871\n",
      "Epoch 16/100\n",
      "225/225 [==============================] - ETA: 0s - loss: 1.1016 - accuracy: 0.5846\n",
      "Epoch 00016: val_accuracy did not improve from 0.59320\n",
      "225/225 [==============================] - 19s 83ms/step - loss: 1.1016 - accuracy: 0.5846 - val_loss: 1.1206 - val_accuracy: 0.5795\n",
      "Epoch 17/100\n",
      "225/225 [==============================] - ETA: 0s - loss: 1.0868 - accuracy: 0.5900\n",
      "Epoch 00017: val_accuracy did not improve from 0.59320\n",
      "225/225 [==============================] - 19s 84ms/step - loss: 1.0868 - accuracy: 0.5900 - val_loss: 1.0740 - val_accuracy: 0.5913\n",
      "Epoch 18/100\n",
      "225/225 [==============================] - ETA: 0s - loss: 1.0769 - accuracy: 0.5985\n",
      "Epoch 00018: val_accuracy improved from 0.59320 to 0.60017, saving model to models/BaselineM5-weights-best.hdf5\n",
      "225/225 [==============================] - 19s 86ms/step - loss: 1.0769 - accuracy: 0.5985 - val_loss: 1.0740 - val_accuracy: 0.6002\n",
      "Epoch 19/100\n",
      "225/225 [==============================] - ETA: 0s - loss: 1.0662 - accuracy: 0.6003\n",
      "Epoch 00019: val_accuracy improved from 0.60017 to 0.60156, saving model to models/BaselineM5-weights-best.hdf5\n",
      "225/225 [==============================] - 19s 87ms/step - loss: 1.0662 - accuracy: 0.6003 - val_loss: 1.1011 - val_accuracy: 0.6016\n",
      "Epoch 20/100\n",
      "225/225 [==============================] - ETA: 0s - loss: 1.0601 - accuracy: 0.6042\n",
      "Epoch 00020: val_accuracy improved from 0.60156 to 0.61382, saving model to models/BaselineM5-weights-best.hdf5\n",
      "225/225 [==============================] - 20s 87ms/step - loss: 1.0601 - accuracy: 0.6042 - val_loss: 1.0537 - val_accuracy: 0.6138\n",
      "Epoch 21/100\n",
      "225/225 [==============================] - ETA: 0s - loss: 1.0476 - accuracy: 0.6079\n",
      "Epoch 00021: val_accuracy improved from 0.61382 to 0.61493, saving model to models/BaselineM5-weights-best.hdf5\n",
      "225/225 [==============================] - 20s 87ms/step - loss: 1.0476 - accuracy: 0.6079 - val_loss: 1.0274 - val_accuracy: 0.6149\n",
      "Epoch 22/100\n",
      "225/225 [==============================] - ETA: 0s - loss: 1.0502 - accuracy: 0.6082\n",
      "Epoch 00022: val_accuracy did not improve from 0.61493\n",
      "225/225 [==============================] - 19s 83ms/step - loss: 1.0502 - accuracy: 0.6082 - val_loss: 1.1066 - val_accuracy: 0.5899\n",
      "Epoch 23/100\n",
      "225/225 [==============================] - ETA: 0s - loss: 1.0355 - accuracy: 0.6128\n",
      "Epoch 00023: val_accuracy did not improve from 0.61493\n",
      "225/225 [==============================] - 19s 83ms/step - loss: 1.0355 - accuracy: 0.6128 - val_loss: 1.1097 - val_accuracy: 0.5913\n",
      "Epoch 24/100\n",
      "225/225 [==============================] - ETA: 0s - loss: 1.0346 - accuracy: 0.6127\n",
      "Epoch 00024: val_accuracy did not improve from 0.61493\n",
      "225/225 [==============================] - 19s 84ms/step - loss: 1.0346 - accuracy: 0.6127 - val_loss: 1.0734 - val_accuracy: 0.6043\n",
      "Epoch 25/100\n",
      "225/225 [==============================] - ETA: 0s - loss: 1.0313 - accuracy: 0.6141\n",
      "Epoch 00025: val_accuracy did not improve from 0.61493\n",
      "225/225 [==============================] - 19s 83ms/step - loss: 1.0313 - accuracy: 0.6141 - val_loss: 1.0552 - val_accuracy: 0.6063\n",
      "Epoch 26/100\n",
      "225/225 [==============================] - ETA: 0s - loss: 1.0133 - accuracy: 0.6204\n",
      "Epoch 00026: val_accuracy did not improve from 0.61493\n",
      "225/225 [==============================] - 19s 83ms/step - loss: 1.0133 - accuracy: 0.6204 - val_loss: 1.1086 - val_accuracy: 0.5896\n",
      "Epoch 27/100\n",
      "225/225 [==============================] - ETA: 0s - loss: 1.0100 - accuracy: 0.6249\n",
      "Epoch 00027: ReduceLROnPlateau reducing learning rate to 0.004999999888241291.\n",
      "\n",
      "Epoch 00027: val_accuracy did not improve from 0.61493\n",
      "225/225 [==============================] - 19s 84ms/step - loss: 1.0100 - accuracy: 0.6249 - val_loss: 1.0522 - val_accuracy: 0.6099\n",
      "Epoch 28/100\n",
      "225/225 [==============================] - ETA: 0s - loss: 0.9680 - accuracy: 0.6397\n",
      "Epoch 00028: val_accuracy improved from 0.61493 to 0.61911, saving model to models/BaselineM5-weights-best.hdf5\n",
      "225/225 [==============================] - 19s 87ms/step - loss: 0.9680 - accuracy: 0.6397 - val_loss: 1.0501 - val_accuracy: 0.6191\n",
      "Epoch 29/100\n",
      "225/225 [==============================] - ETA: 0s - loss: 0.9559 - accuracy: 0.6430\n",
      "Epoch 00029: val_accuracy improved from 0.61911 to 0.64837, saving model to models/BaselineM5-weights-best.hdf5\n",
      "225/225 [==============================] - 19s 87ms/step - loss: 0.9559 - accuracy: 0.6430 - val_loss: 0.9638 - val_accuracy: 0.6484\n",
      "Epoch 30/100\n",
      "225/225 [==============================] - ETA: 0s - loss: 0.9503 - accuracy: 0.6454\n",
      "Epoch 00030: val_accuracy did not improve from 0.64837\n",
      "225/225 [==============================] - 19s 84ms/step - loss: 0.9503 - accuracy: 0.6454 - val_loss: 0.9985 - val_accuracy: 0.6328\n",
      "Epoch 31/100\n",
      "225/225 [==============================] - ETA: 0s - loss: 0.9364 - accuracy: 0.6490\n",
      "Epoch 00031: val_accuracy did not improve from 0.64837\n",
      "225/225 [==============================] - 19s 84ms/step - loss: 0.9364 - accuracy: 0.6490 - val_loss: 0.9797 - val_accuracy: 0.6436\n",
      "Epoch 32/100\n",
      "225/225 [==============================] - ETA: 0s - loss: 0.9325 - accuracy: 0.6527\n",
      "Epoch 00032: val_accuracy improved from 0.64837 to 0.65088, saving model to models/BaselineM5-weights-best.hdf5\n",
      "225/225 [==============================] - 19s 87ms/step - loss: 0.9325 - accuracy: 0.6527 - val_loss: 0.9679 - val_accuracy: 0.6509\n",
      "Epoch 33/100\n",
      "225/225 [==============================] - ETA: 0s - loss: 0.9297 - accuracy: 0.6523\n",
      "Epoch 00033: val_accuracy did not improve from 0.65088\n",
      "225/225 [==============================] - 19s 83ms/step - loss: 0.9297 - accuracy: 0.6523 - val_loss: 0.9714 - val_accuracy: 0.6428\n",
      "Epoch 34/100\n",
      "225/225 [==============================] - ETA: 0s - loss: 0.9254 - accuracy: 0.6550\n",
      "Epoch 00034: val_accuracy did not improve from 0.65088\n",
      "225/225 [==============================] - 19s 83ms/step - loss: 0.9254 - accuracy: 0.6550 - val_loss: 0.9652 - val_accuracy: 0.6459\n",
      "Epoch 35/100\n",
      "225/225 [==============================] - ETA: 0s - loss: 0.9251 - accuracy: 0.6551\n",
      "Epoch 00035: val_accuracy did not improve from 0.65088\n",
      "225/225 [==============================] - 19s 83ms/step - loss: 0.9251 - accuracy: 0.6551 - val_loss: 1.0093 - val_accuracy: 0.6294\n",
      "Epoch 36/100\n",
      "225/225 [==============================] - ETA: 0s - loss: 0.9122 - accuracy: 0.6614\n",
      "Epoch 00036: val_accuracy did not improve from 0.65088\n",
      "225/225 [==============================] - 19s 83ms/step - loss: 0.9122 - accuracy: 0.6614 - val_loss: 0.9955 - val_accuracy: 0.6367\n",
      "Epoch 37/100\n",
      "225/225 [==============================] - ETA: 0s - loss: 0.9116 - accuracy: 0.6592\n",
      "Epoch 00037: val_accuracy did not improve from 0.65088\n",
      "225/225 [==============================] - 19s 85ms/step - loss: 0.9116 - accuracy: 0.6592 - val_loss: 0.9828 - val_accuracy: 0.6358\n",
      "Epoch 38/100\n",
      "225/225 [==============================] - ETA: 0s - loss: 0.9126 - accuracy: 0.6618\n",
      "Epoch 00038: ReduceLROnPlateau reducing learning rate to 0.0024999999441206455.\n",
      "\n",
      "Epoch 00038: val_accuracy did not improve from 0.65088\n",
      "225/225 [==============================] - 19s 85ms/step - loss: 0.9126 - accuracy: 0.6618 - val_loss: 0.9705 - val_accuracy: 0.6461\n",
      "Epoch 39/100\n",
      "225/225 [==============================] - ETA: 0s - loss: 0.8870 - accuracy: 0.6707\n",
      "Epoch 00039: val_accuracy did not improve from 0.65088\n",
      "225/225 [==============================] - 19s 85ms/step - loss: 0.8870 - accuracy: 0.6707 - val_loss: 0.9767 - val_accuracy: 0.6453\n",
      "Epoch 40/100\n",
      "225/225 [==============================] - ETA: 0s - loss: 0.8751 - accuracy: 0.6760\n",
      "Epoch 00040: val_accuracy improved from 0.65088 to 0.65784, saving model to models/BaselineM5-weights-best.hdf5\n",
      "225/225 [==============================] - 20s 90ms/step - loss: 0.8751 - accuracy: 0.6760 - val_loss: 0.9555 - val_accuracy: 0.6578\n",
      "Epoch 41/100\n",
      "225/225 [==============================] - ETA: 0s - loss: 0.8704 - accuracy: 0.6758\n",
      "Epoch 00041: val_accuracy improved from 0.65784 to 0.66509, saving model to models/BaselineM5-weights-best.hdf5\n",
      "225/225 [==============================] - 20s 89ms/step - loss: 0.8704 - accuracy: 0.6758 - val_loss: 0.9263 - val_accuracy: 0.6651\n",
      "Epoch 42/100\n",
      "225/225 [==============================] - ETA: 0s - loss: 0.8636 - accuracy: 0.6796\n",
      "Epoch 00042: val_accuracy did not improve from 0.66509\n",
      "225/225 [==============================] - 19s 86ms/step - loss: 0.8636 - accuracy: 0.6796 - val_loss: 0.9519 - val_accuracy: 0.6475\n",
      "Epoch 43/100\n",
      "225/225 [==============================] - ETA: 0s - loss: 0.8580 - accuracy: 0.6798\n",
      "Epoch 00043: val_accuracy did not improve from 0.66509\n",
      "225/225 [==============================] - 19s 85ms/step - loss: 0.8580 - accuracy: 0.6798 - val_loss: 0.9451 - val_accuracy: 0.6514\n",
      "Epoch 44/100\n",
      "225/225 [==============================] - ETA: 0s - loss: 0.8532 - accuracy: 0.6833\n",
      "Epoch 00044: val_accuracy did not improve from 0.66509\n",
      "225/225 [==============================] - 19s 85ms/step - loss: 0.8532 - accuracy: 0.6833 - val_loss: 0.9786 - val_accuracy: 0.6445\n",
      "Epoch 45/100\n",
      "225/225 [==============================] - ETA: 0s - loss: 0.8564 - accuracy: 0.6782\n",
      "Epoch 00045: val_accuracy did not improve from 0.66509\n",
      "225/225 [==============================] - 19s 86ms/step - loss: 0.8564 - accuracy: 0.6782 - val_loss: 0.9553 - val_accuracy: 0.6565\n",
      "Epoch 46/100\n",
      "225/225 [==============================] - ETA: 0s - loss: 0.8503 - accuracy: 0.6840\n",
      "Epoch 00046: val_accuracy did not improve from 0.66509\n",
      "225/225 [==============================] - 19s 85ms/step - loss: 0.8503 - accuracy: 0.6840 - val_loss: 0.9315 - val_accuracy: 0.6609\n",
      "Epoch 47/100\n",
      "225/225 [==============================] - ETA: 0s - loss: 0.8470 - accuracy: 0.6824\n",
      "Epoch 00047: ReduceLROnPlateau reducing learning rate to 0.0012499999720603228.\n",
      "\n",
      "Epoch 00047: val_accuracy did not improve from 0.66509\n",
      "225/225 [==============================] - 19s 86ms/step - loss: 0.8470 - accuracy: 0.6824 - val_loss: 0.9446 - val_accuracy: 0.6548\n",
      "Epoch 48/100\n",
      "225/225 [==============================] - ETA: 0s - loss: 0.8328 - accuracy: 0.6902\n",
      "Epoch 00048: val_accuracy improved from 0.66509 to 0.66676, saving model to models/BaselineM5-weights-best.hdf5\n",
      "225/225 [==============================] - 20s 90ms/step - loss: 0.8328 - accuracy: 0.6902 - val_loss: 0.9281 - val_accuracy: 0.6668\n",
      "Epoch 49/100\n",
      "225/225 [==============================] - ETA: 0s - loss: 0.8226 - accuracy: 0.6957\n",
      "Epoch 00049: val_accuracy did not improve from 0.66676\n",
      "225/225 [==============================] - 19s 85ms/step - loss: 0.8226 - accuracy: 0.6957 - val_loss: 0.9378 - val_accuracy: 0.6654\n",
      "Epoch 50/100\n",
      "225/225 [==============================] - ETA: 0s - loss: 0.8221 - accuracy: 0.6943\n",
      "Epoch 00050: val_accuracy did not improve from 0.66676\n",
      "225/225 [==============================] - 19s 85ms/step - loss: 0.8221 - accuracy: 0.6943 - val_loss: 0.9342 - val_accuracy: 0.6634\n",
      "Epoch 51/100\n",
      "225/225 [==============================] - ETA: 0s - loss: 0.8216 - accuracy: 0.6965\n",
      "Epoch 00051: val_accuracy did not improve from 0.66676\n",
      "225/225 [==============================] - 19s 85ms/step - loss: 0.8216 - accuracy: 0.6965 - val_loss: 0.9217 - val_accuracy: 0.6665\n",
      "Epoch 52/100\n",
      "225/225 [==============================] - ETA: 0s - loss: 0.8161 - accuracy: 0.6975\n",
      "Epoch 00052: val_accuracy did not improve from 0.66676\n",
      "225/225 [==============================] - 19s 86ms/step - loss: 0.8161 - accuracy: 0.6975 - val_loss: 0.9313 - val_accuracy: 0.6640\n",
      "Epoch 53/100\n",
      "225/225 [==============================] - ETA: 0s - loss: 0.8169 - accuracy: 0.6971\n",
      "Epoch 00053: val_accuracy improved from 0.66676 to 0.67066, saving model to models/BaselineM5-weights-best.hdf5\n",
      "225/225 [==============================] - 20s 88ms/step - loss: 0.8169 - accuracy: 0.6971 - val_loss: 0.9219 - val_accuracy: 0.6707\n",
      "Epoch 54/100\n",
      "225/225 [==============================] - ETA: 0s - loss: 0.8140 - accuracy: 0.6947\n",
      "Epoch 00054: val_accuracy did not improve from 0.67066\n",
      "225/225 [==============================] - 19s 84ms/step - loss: 0.8140 - accuracy: 0.6947 - val_loss: 0.9326 - val_accuracy: 0.6615\n",
      "Epoch 55/100\n",
      "225/225 [==============================] - ETA: 0s - loss: 0.8061 - accuracy: 0.6984\n",
      "Epoch 00055: val_accuracy did not improve from 0.67066\n",
      "225/225 [==============================] - 19s 83ms/step - loss: 0.8061 - accuracy: 0.6984 - val_loss: 0.9294 - val_accuracy: 0.6670\n",
      "Epoch 56/100\n",
      "225/225 [==============================] - ETA: 0s - loss: 0.8035 - accuracy: 0.7009\n",
      "Epoch 00056: val_accuracy did not improve from 0.67066\n",
      "225/225 [==============================] - 19s 83ms/step - loss: 0.8035 - accuracy: 0.7009 - val_loss: 0.9343 - val_accuracy: 0.6682\n",
      "Epoch 57/100\n",
      "225/225 [==============================] - ETA: 0s - loss: 0.8086 - accuracy: 0.6985\n",
      "Epoch 00057: val_accuracy improved from 0.67066 to 0.67177, saving model to models/BaselineM5-weights-best.hdf5\n",
      "225/225 [==============================] - 20s 88ms/step - loss: 0.8086 - accuracy: 0.6985 - val_loss: 0.9194 - val_accuracy: 0.6718\n",
      "Epoch 58/100\n",
      "225/225 [==============================] - ETA: 0s - loss: 0.8020 - accuracy: 0.7010\n",
      "Epoch 00058: val_accuracy did not improve from 0.67177\n",
      "225/225 [==============================] - 19s 84ms/step - loss: 0.8020 - accuracy: 0.7010 - val_loss: 0.9347 - val_accuracy: 0.6609\n",
      "Epoch 59/100\n",
      "225/225 [==============================] - ETA: 0s - loss: 0.7977 - accuracy: 0.7058\n",
      "Epoch 00059: val_accuracy did not improve from 0.67177\n",
      "225/225 [==============================] - 19s 83ms/step - loss: 0.7977 - accuracy: 0.7058 - val_loss: 0.9282 - val_accuracy: 0.6695\n",
      "Epoch 60/100\n",
      "225/225 [==============================] - ETA: 0s - loss: 0.8036 - accuracy: 0.7030\n",
      "Epoch 00060: val_accuracy improved from 0.67177 to 0.67456, saving model to models/BaselineM5-weights-best.hdf5\n",
      "225/225 [==============================] - 20s 87ms/step - loss: 0.8036 - accuracy: 0.7030 - val_loss: 0.9198 - val_accuracy: 0.6746\n",
      "Epoch 61/100\n",
      "225/225 [==============================] - ETA: 0s - loss: 0.7932 - accuracy: 0.7026\n",
      "Epoch 00061: val_accuracy did not improve from 0.67456\n",
      "225/225 [==============================] - 19s 84ms/step - loss: 0.7932 - accuracy: 0.7026 - val_loss: 0.9246 - val_accuracy: 0.6698\n",
      "Epoch 62/100\n",
      "225/225 [==============================] - ETA: 0s - loss: 0.8001 - accuracy: 0.7031\n",
      "Epoch 00062: val_accuracy did not improve from 0.67456\n",
      "225/225 [==============================] - 19s 83ms/step - loss: 0.8001 - accuracy: 0.7031 - val_loss: 0.9391 - val_accuracy: 0.6651\n",
      "Epoch 63/100\n",
      "225/225 [==============================] - ETA: 0s - loss: 0.7925 - accuracy: 0.7054\n",
      "Epoch 00063: val_accuracy did not improve from 0.67456\n",
      "225/225 [==============================] - 19s 85ms/step - loss: 0.7925 - accuracy: 0.7054 - val_loss: 0.9212 - val_accuracy: 0.6662\n",
      "Epoch 64/100\n",
      "225/225 [==============================] - ETA: 0s - loss: 0.7987 - accuracy: 0.7055\n",
      "Epoch 00064: val_accuracy did not improve from 0.67456\n",
      "225/225 [==============================] - 19s 84ms/step - loss: 0.7987 - accuracy: 0.7055 - val_loss: 0.9219 - val_accuracy: 0.6701\n",
      "Epoch 65/100\n",
      "225/225 [==============================] - ETA: 0s - loss: 0.7835 - accuracy: 0.7086\n",
      "Epoch 00065: val_accuracy did not improve from 0.67456\n",
      "225/225 [==============================] - 19s 83ms/step - loss: 0.7835 - accuracy: 0.7086 - val_loss: 0.9482 - val_accuracy: 0.6676\n",
      "Epoch 66/100\n",
      "225/225 [==============================] - ETA: 0s - loss: 0.7908 - accuracy: 0.7029\n",
      "Epoch 00066: ReduceLROnPlateau reducing learning rate to 0.0006249999860301614.\n",
      "\n",
      "Epoch 00066: val_accuracy did not improve from 0.67456\n",
      "225/225 [==============================] - 19s 84ms/step - loss: 0.7908 - accuracy: 0.7029 - val_loss: 0.9305 - val_accuracy: 0.6665\n",
      "Epoch 67/100\n",
      "225/225 [==============================] - ETA: 0s - loss: 0.7871 - accuracy: 0.7055\n",
      "Epoch 00067: val_accuracy did not improve from 0.67456\n",
      "225/225 [==============================] - 19s 83ms/step - loss: 0.7871 - accuracy: 0.7055 - val_loss: 0.9245 - val_accuracy: 0.6729\n",
      "Epoch 68/100\n",
      "225/225 [==============================] - ETA: 0s - loss: 0.7732 - accuracy: 0.7154\n",
      "Epoch 00068: val_accuracy did not improve from 0.67456\n",
      "225/225 [==============================] - 19s 84ms/step - loss: 0.7732 - accuracy: 0.7154 - val_loss: 0.9245 - val_accuracy: 0.6687\n",
      "Epoch 69/100\n",
      "225/225 [==============================] - ETA: 0s - loss: 0.7761 - accuracy: 0.7092\n",
      "Epoch 00069: val_accuracy did not improve from 0.67456\n",
      "225/225 [==============================] - 19s 84ms/step - loss: 0.7761 - accuracy: 0.7092 - val_loss: 0.9245 - val_accuracy: 0.6718\n",
      "Epoch 70/100\n",
      "225/225 [==============================] - ETA: 0s - loss: 0.7750 - accuracy: 0.7112\n",
      "Epoch 00070: val_accuracy did not improve from 0.67456\n",
      "225/225 [==============================] - 19s 83ms/step - loss: 0.7750 - accuracy: 0.7112 - val_loss: 0.9211 - val_accuracy: 0.6718\n",
      "Epoch 71/100\n",
      "225/225 [==============================] - ETA: 0s - loss: 0.7734 - accuracy: 0.7132\n",
      "Epoch 00071: val_accuracy did not improve from 0.67456\n",
      "225/225 [==============================] - 19s 84ms/step - loss: 0.7734 - accuracy: 0.7132 - val_loss: 0.9232 - val_accuracy: 0.6707\n",
      "Epoch 72/100\n",
      "225/225 [==============================] - ETA: 0s - loss: 0.7756 - accuracy: 0.7135\n",
      "Epoch 00072: ReduceLROnPlateau reducing learning rate to 0.0003124999930150807.\n",
      "\n",
      "Epoch 00072: val_accuracy did not improve from 0.67456\n",
      "225/225 [==============================] - 19s 83ms/step - loss: 0.7756 - accuracy: 0.7135 - val_loss: 0.9253 - val_accuracy: 0.6693\n",
      "Epoch 73/100\n",
      "225/225 [==============================] - ETA: 0s - loss: 0.7667 - accuracy: 0.7156\n",
      "Epoch 00073: val_accuracy did not improve from 0.67456\n",
      "225/225 [==============================] - 19s 84ms/step - loss: 0.7667 - accuracy: 0.7156 - val_loss: 0.9184 - val_accuracy: 0.6740\n",
      "Epoch 74/100\n",
      "225/225 [==============================] - ETA: 0s - loss: 0.7687 - accuracy: 0.7152\n",
      "Epoch 00074: val_accuracy did not improve from 0.67456\n",
      "225/225 [==============================] - 19s 83ms/step - loss: 0.7687 - accuracy: 0.7152 - val_loss: 0.9193 - val_accuracy: 0.6721\n",
      "Epoch 75/100\n",
      "225/225 [==============================] - ETA: 0s - loss: 0.7708 - accuracy: 0.7123\n",
      "Epoch 00075: val_accuracy improved from 0.67456 to 0.67540, saving model to models/BaselineM5-weights-best.hdf5\n",
      "225/225 [==============================] - 20s 87ms/step - loss: 0.7708 - accuracy: 0.7123 - val_loss: 0.9195 - val_accuracy: 0.6754\n",
      "Epoch 76/100\n",
      "225/225 [==============================] - ETA: 0s - loss: 0.7691 - accuracy: 0.7149\n",
      "Epoch 00076: val_accuracy did not improve from 0.67540\n",
      "225/225 [==============================] - 19s 84ms/step - loss: 0.7691 - accuracy: 0.7149 - val_loss: 0.9241 - val_accuracy: 0.6721\n",
      "Epoch 77/100\n",
      "225/225 [==============================] - ETA: 0s - loss: 0.7695 - accuracy: 0.7138\n",
      "Epoch 00077: val_accuracy did not improve from 0.67540\n",
      "225/225 [==============================] - 19s 84ms/step - loss: 0.7695 - accuracy: 0.7138 - val_loss: 0.9254 - val_accuracy: 0.6712\n",
      "Epoch 78/100\n",
      "225/225 [==============================] - ETA: 0s - loss: 0.7606 - accuracy: 0.7159\n",
      "Epoch 00078: val_accuracy did not improve from 0.67540\n",
      "225/225 [==============================] - 19s 83ms/step - loss: 0.7606 - accuracy: 0.7159 - val_loss: 0.9199 - val_accuracy: 0.6718\n",
      "Epoch 79/100\n",
      "225/225 [==============================] - ETA: 0s - loss: 0.7647 - accuracy: 0.7155\n",
      "Epoch 00079: val_accuracy improved from 0.67540 to 0.67679, saving model to models/BaselineM5-weights-best.hdf5\n",
      "225/225 [==============================] - 20s 88ms/step - loss: 0.7647 - accuracy: 0.7155 - val_loss: 0.9205 - val_accuracy: 0.6768\n",
      "Epoch 80/100\n",
      "225/225 [==============================] - ETA: 0s - loss: 0.7714 - accuracy: 0.7156\n",
      "Epoch 00080: val_accuracy did not improve from 0.67679\n",
      "225/225 [==============================] - 19s 85ms/step - loss: 0.7714 - accuracy: 0.7156 - val_loss: 0.9198 - val_accuracy: 0.6762\n",
      "Epoch 81/100\n",
      "225/225 [==============================] - ETA: 0s - loss: 0.7596 - accuracy: 0.7174\n",
      "Epoch 00081: val_accuracy did not improve from 0.67679\n",
      "225/225 [==============================] - 19s 84ms/step - loss: 0.7596 - accuracy: 0.7174 - val_loss: 0.9208 - val_accuracy: 0.6732\n",
      "Epoch 82/100\n",
      "225/225 [==============================] - ETA: 0s - loss: 0.7607 - accuracy: 0.7192\n",
      "Epoch 00082: val_accuracy did not improve from 0.67679\n",
      "225/225 [==============================] - 19s 83ms/step - loss: 0.7607 - accuracy: 0.7192 - val_loss: 0.9234 - val_accuracy: 0.6746\n",
      "Epoch 83/100\n",
      "225/225 [==============================] - ETA: 0s - loss: 0.7620 - accuracy: 0.7154\n",
      "Epoch 00083: val_accuracy did not improve from 0.67679\n",
      "225/225 [==============================] - 19s 84ms/step - loss: 0.7620 - accuracy: 0.7154 - val_loss: 0.9244 - val_accuracy: 0.6751\n",
      "Epoch 84/100\n",
      "225/225 [==============================] - ETA: 0s - loss: 0.7593 - accuracy: 0.7197\n",
      "Epoch 00084: val_accuracy did not improve from 0.67679\n",
      "225/225 [==============================] - 19s 83ms/step - loss: 0.7593 - accuracy: 0.7197 - val_loss: 0.9192 - val_accuracy: 0.6757\n",
      "Epoch 85/100\n",
      "225/225 [==============================] - ETA: 0s - loss: 0.7584 - accuracy: 0.7178\n",
      "Epoch 00085: val_accuracy improved from 0.67679 to 0.67790, saving model to models/BaselineM5-weights-best.hdf5\n",
      "225/225 [==============================] - 20s 89ms/step - loss: 0.7584 - accuracy: 0.7178 - val_loss: 0.9189 - val_accuracy: 0.6779\n",
      "Epoch 86/100\n",
      "225/225 [==============================] - ETA: 0s - loss: 0.7607 - accuracy: 0.7159\n",
      "Epoch 00086: val_accuracy did not improve from 0.67790\n",
      "225/225 [==============================] - 19s 84ms/step - loss: 0.7607 - accuracy: 0.7159 - val_loss: 0.9260 - val_accuracy: 0.6754\n",
      "Epoch 87/100\n",
      "225/225 [==============================] - ETA: 0s - loss: 0.7559 - accuracy: 0.7179\n",
      "Epoch 00087: val_accuracy did not improve from 0.67790\n",
      "225/225 [==============================] - 19s 84ms/step - loss: 0.7559 - accuracy: 0.7179 - val_loss: 0.9198 - val_accuracy: 0.6760\n",
      "Epoch 88/100\n",
      "225/225 [==============================] - ETA: 0s - loss: 0.7627 - accuracy: 0.7157\n",
      "Epoch 00088: val_accuracy did not improve from 0.67790\n",
      "225/225 [==============================] - 19s 83ms/step - loss: 0.7627 - accuracy: 0.7157 - val_loss: 0.9260 - val_accuracy: 0.6737\n",
      "Epoch 89/100\n",
      "225/225 [==============================] - ETA: 0s - loss: 0.7585 - accuracy: 0.7183\n",
      "Epoch 00089: val_accuracy did not improve from 0.67790\n",
      "225/225 [==============================] - 19s 83ms/step - loss: 0.7585 - accuracy: 0.7183 - val_loss: 0.9209 - val_accuracy: 0.6751\n",
      "Epoch 90/100\n",
      "225/225 [==============================] - ETA: 0s - loss: 0.7563 - accuracy: 0.7175\n",
      "Epoch 00090: val_accuracy did not improve from 0.67790\n",
      "225/225 [==============================] - 19s 83ms/step - loss: 0.7563 - accuracy: 0.7175 - val_loss: 0.9206 - val_accuracy: 0.6748\n",
      "Epoch 91/100\n",
      "225/225 [==============================] - ETA: 0s - loss: 0.7637 - accuracy: 0.7167\n",
      "Epoch 00091: ReduceLROnPlateau reducing learning rate to 0.00015624999650754035.\n",
      "\n",
      "Epoch 00091: val_accuracy did not improve from 0.67790\n",
      "225/225 [==============================] - 19s 83ms/step - loss: 0.7637 - accuracy: 0.7167 - val_loss: 0.9256 - val_accuracy: 0.6729\n",
      "Epoch 92/100\n",
      "225/225 [==============================] - ETA: 0s - loss: 0.7519 - accuracy: 0.7214\n",
      "Epoch 00092: val_accuracy did not improve from 0.67790\n",
      "225/225 [==============================] - 19s 84ms/step - loss: 0.7519 - accuracy: 0.7214 - val_loss: 0.9230 - val_accuracy: 0.6743\n",
      "Epoch 93/100\n",
      "225/225 [==============================] - ETA: 0s - loss: 0.7507 - accuracy: 0.7214\n",
      "Epoch 00093: val_accuracy did not improve from 0.67790\n",
      "225/225 [==============================] - 19s 83ms/step - loss: 0.7507 - accuracy: 0.7214 - val_loss: 0.9215 - val_accuracy: 0.6729\n",
      "Epoch 94/100\n",
      "225/225 [==============================] - ETA: 0s - loss: 0.7511 - accuracy: 0.7219\n",
      "Epoch 00094: val_accuracy did not improve from 0.67790\n",
      "225/225 [==============================] - 19s 83ms/step - loss: 0.7511 - accuracy: 0.7219 - val_loss: 0.9227 - val_accuracy: 0.6718\n",
      "Epoch 95/100\n",
      "225/225 [==============================] - ETA: 0s - loss: 0.7511 - accuracy: 0.7230\n",
      "Epoch 00095: val_accuracy did not improve from 0.67790\n",
      "225/225 [==============================] - 19s 83ms/step - loss: 0.7511 - accuracy: 0.7230 - val_loss: 0.9223 - val_accuracy: 0.6734\n",
      "Epoch 96/100\n",
      "225/225 [==============================] - ETA: 0s - loss: 0.7513 - accuracy: 0.7204\n",
      "Epoch 00096: val_accuracy did not improve from 0.67790\n",
      "225/225 [==============================] - 19s 85ms/step - loss: 0.7513 - accuracy: 0.7204 - val_loss: 0.9184 - val_accuracy: 0.6726\n",
      "Epoch 97/100\n",
      "225/225 [==============================] - ETA: 0s - loss: 0.7553 - accuracy: 0.7211\n",
      "Epoch 00097: ReduceLROnPlateau reducing learning rate to 7.812499825377017e-05.\n",
      "\n",
      "Epoch 00097: val_accuracy did not improve from 0.67790\n",
      "225/225 [==============================] - 19s 83ms/step - loss: 0.7553 - accuracy: 0.7211 - val_loss: 0.9204 - val_accuracy: 0.6718\n",
      "Epoch 98/100\n",
      "225/225 [==============================] - ETA: 0s - loss: 0.7502 - accuracy: 0.7212\n",
      "Epoch 00098: val_accuracy did not improve from 0.67790\n",
      "225/225 [==============================] - 19s 83ms/step - loss: 0.7502 - accuracy: 0.7212 - val_loss: 0.9193 - val_accuracy: 0.6734\n",
      "Epoch 99/100\n",
      "225/225 [==============================] - ETA: 0s - loss: 0.7533 - accuracy: 0.7207\n",
      "Epoch 00099: val_accuracy did not improve from 0.67790\n",
      "225/225 [==============================] - 19s 83ms/step - loss: 0.7533 - accuracy: 0.7207 - val_loss: 0.9193 - val_accuracy: 0.6743\n",
      "Epoch 100/100\n",
      "225/225 [==============================] - ETA: 0s - loss: 0.7546 - accuracy: 0.7196\n",
      "Epoch 00100: val_accuracy did not improve from 0.67790\n",
      "225/225 [==============================] - 19s 83ms/step - loss: 0.7546 - accuracy: 0.7196 - val_loss: 0.9202 - val_accuracy: 0.6734\n"
     ]
    }
   ],
   "source": [
    "history_base3 = baselineM5.fit(\n",
    "    datagen.flow(X_train, y_train, batch_size=batch_size),\n",
    "    steps_per_epoch=int(np.ceil(X_train.shape[0] / float(batch_size))),\n",
    "    epochs = 100,\n",
    "    callbacks = callbacks_list,\n",
    "    #class_weight = class_weight, \n",
    "    validation_data=(X_val, y_val))"
   ]
  },
  {
   "cell_type": "code",
   "execution_count": null,
   "metadata": {
    "colab": {
     "base_uri": "https://localhost:8080/",
     "height": 51
    },
    "id": "G8I995nvS2Yn",
    "outputId": "92699d7d-58e1-4275-9fe8-e1f045eabd89"
   },
   "outputs": [
    {
     "name": "stdout",
     "output_type": "stream",
     "text": [
      "29/29 [==============================] - 1s 17ms/step - loss: 0.8850 - accuracy: 0.6790\n"
     ]
    },
    {
     "data": {
      "text/plain": [
       "[0.8850268125534058, 0.6790192127227783]"
      ]
     },
     "execution_count": 44,
     "metadata": {
      "tags": []
     },
     "output_type": "execute_result"
    }
   ],
   "source": [
    "baselineM5.evaluate(X_test,y_test, batch_size=batch_size)\n",
    "\n"
   ]
  },
  {
   "cell_type": "code",
   "execution_count": null,
   "metadata": {
    "colab": {
     "base_uri": "https://localhost:8080/",
     "height": 34
    },
    "id": "lS7CErfUZJ4X",
    "outputId": "fc12d211-4caf-42b8-f759-676d1d63c769"
   },
   "outputs": [
    {
     "name": "stdout",
     "output_type": "stream",
     "text": [
      "data  models  utils\n"
     ]
    }
   ],
   "source": [
    "!ls"
   ]
  },
  {
   "cell_type": "code",
   "execution_count": null,
   "metadata": {
    "id": "ANIO9XwtaOhk"
   },
   "outputs": [],
   "source": []
  },
  {
   "cell_type": "code",
   "execution_count": null,
   "metadata": {
    "id": "bSLPzH67Y2hG"
   },
   "outputs": [],
   "source": [
    "from tensorflow.keras.models import load_model\n",
    "\n",
    "baselineM5_best = load_model('models/BaselineM5-weights-best.hdf5')\n",
    "\n",
    "#baselineM5_best.evaluate(X_test,y_test, batch_size=batch_size)"
   ]
  },
  {
   "cell_type": "code",
   "execution_count": null,
   "metadata": {
    "colab": {
     "base_uri": "https://localhost:8080/",
     "height": 51
    },
    "id": "pUlY65zVOC8j",
    "outputId": "98c59914-6fe1-40fe-e5ff-fd71f42c4c69"
   },
   "outputs": [
    {
     "name": "stdout",
     "output_type": "stream",
     "text": [
      "29/29 [==============================] - 0s 8ms/step - loss: 0.8815 - accuracy: 0.6843\n"
     ]
    },
    {
     "data": {
      "text/plain": [
       "[0.8814541101455688, 0.684313178062439]"
      ]
     },
     "execution_count": 21,
     "metadata": {
      "tags": []
     },
     "output_type": "execute_result"
    }
   ],
   "source": [
    "baselineM5_best.evaluate(X_test,y_test, batch_size=128)"
   ]
  },
  {
   "cell_type": "code",
   "execution_count": null,
   "metadata": {
    "colab": {
     "base_uri": "https://localhost:8080/",
     "height": 573
    },
    "id": "awbob7xcN2vg",
    "outputId": "8d3a31da-cb2d-4210-8129-9aa415d8cf42"
   },
   "outputs": [
    {
     "data": {
      "image/png": "[encoded data removed]",
      "text/plain": [
       "<Figure size 432x288 with 1 Axes>"
      ]
     },
     "metadata": {
      "needs_background": "light",
      "tags": []
     },
     "output_type": "display_data"
    },
    {
     "data": {
      "image/png": "[encoded data removed]",
      "text/plain": [
       "<Figure size 432x288 with 1 Axes>"
      ]
     },
     "metadata": {
      "needs_background": "light",
      "tags": []
     },
     "output_type": "display_data"
    }
   ],
   "source": [
    "plt.plot(history_base3.history['accuracy'])\n",
    "plt.plot(history_base3.history['val_accuracy'])\n",
    "plt.title('model accuracy')\n",
    "plt.ylabel('accuracy')\n",
    "plt.xlabel('epoch')\n",
    "plt.legend(['train', 'dev'], loc='upper left')\n",
    "plt.show()\n",
    "# summarize history for loss\n",
    "plt.plot(history_base3.history['loss'])\n",
    "plt.plot(history_base3.history['val_loss'])\n",
    "plt.title('model loss')\n",
    "plt.ylabel('loss')\n",
    "plt.xlabel('epoch')\n",
    "plt.legend(['train', 'dev'], loc='upper left')\n",
    "plt.show()"
   ]
  },
  {
   "cell_type": "code",
   "execution_count": null,
   "metadata": {
    "colab": {
     "base_uri": "https://localhost:8080/",
     "height": 399
    },
    "id": "lmeT-tItN2WD",
    "outputId": "752814ce-3f29-4bd2-9a14-aa848dec898a"
   },
   "outputs": [
    {
     "data": {
      "image/png": "[encoded data removed]",
      "text/plain": [
       "<Figure size 360x360 with 2 Axes>"
      ]
     },
     "metadata": {
      "needs_background": "light",
      "tags": []
     },
     "output_type": "display_data"
    }
   ],
   "source": [
    "from sklearn.metrics import confusion_matrix\n",
    "from seaborn import heatmap\n",
    "\n",
    "emotions = {0:'Angry', 1:'Disgust', 2:'Fear', 3:'Happy', 4:'Sad', 5:'Surprise', 6:'Neutral'}\n",
    "y_pred = baselineM5.predict(X_test).argmax(axis=1)\n",
    "y_true = decode_one_hot(y_test)\n",
    "\n",
    "\n",
    "cmat_df_test=pd.DataFrame(\n",
    "  confusion_matrix(y_true, y_pred, normalize='true').round(2),\n",
    "  index=emotions.values(), \n",
    "  columns=emotions.values()\n",
    "  )\n",
    "\n",
    "plt.figure(figsize=(5,5))\n",
    "heatmap(cmat_df_test,annot=True,cmap=plt.cm.Blues)\n",
    "plt.tight_layout()\n",
    "plt.title('Confusion Matrix on Private Test Set')\n",
    "plt.ylabel('True label')\n",
    "plt.xlabel('Predicted label')\n",
    "plt.show()"
   ]
  }
 ],
 "metadata": {
  "accelerator": "GPU",
  "colab": {
   "collapsed_sections": [],
   "name": "Baseline_FER.ipynb",
   "provenance": []
  },
  "kernelspec": {
   "display_name": "Python 3",
   "language": "python",
   "name": "python3"
  },
  "language_info": {
   "codemirror_mode": {
    "name": "ipython",
    "version": 3
   },
   "file_extension": ".py",
   "mimetype": "text/x-python",
   "name": "python",
   "nbconvert_exporter": "python",
   "pygments_lexer": "ipython3",
   "version": "3.8.3"
  }
 },
 "nbformat": 4,
 "nbformat_minor": 1
}
